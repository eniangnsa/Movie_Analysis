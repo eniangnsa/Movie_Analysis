{
 "cells": [
  {
   "cell_type": "markdown",
   "metadata": {},
   "source": [
    "\n",
    "# Project: Investigate a Dataset - [TMDB 5000 Movie Dataset]\n",
    "\n",
    "## Table of Contents\n",
    "<ul>\n",
    "<li><a href=\"#intro\">Introduction</a></li>\n",
    "<li><a href=\"#wrangling\">Data Wrangling</a></li>\n",
    "<li><a href=\"#eda\">Exploratory Data Analysis</a></li>\n",
    "<li><a href=\"#conclusions\">Conclusions</a></li>\n",
    "</ul>"
   ]
  },
  {
   "cell_type": "markdown",
   "metadata": {},
   "source": [
    "<a id='intro'></a>\n",
    "## Introduction\n",
    "\n",
    "### Dataset Description  \n",
    "\n",
    "> Welcome to this movies data analysis. we'll be investigating a movie dataset from kaggle. our aim is to uncover as many insight we can get from the data. The data initially contains 21 fields and 10866 records. \n",
    "\n",
    "### Question(s) for Analysis\n",
    "> We'll be picking specific fields in the data set and running our analysis. \n",
    "> Fields like the companies that produced the movies,directors runtime and a calculated field.\n",
    "> **Questions*\n",
    "> 1. Which Companies had the highest profit?\n",
    "> 2. Which Company made the most movies?\n",
    "> 3. Which director made the highest profit from movies.\n",
    "> 4. Is there any trend in the number of movies released each year?\n",
    "> 5. Is there a relationship between the number of movies directed and the profit?"
   ]
  },
  {
   "cell_type": "markdown",
   "metadata": {},
   "source": [
    "<a id='wrangling'></a>\n",
    "## Data Wrangling\n",
    "\n",
    "> In this section\n",
    "> 1. Load the data and import the libraries we might need.\n",
    "> 2. Inspect it to familiarize myself with the variables\n",
    "> 3. Check for inconsistencies in the data\n",
    "> 4. Cleaning the data \n",
    "> 5. Give reasons for the decisions taken.\n"
   ]
  },
  {
   "cell_type": "code",
   "execution_count": 1,
   "metadata": {},
   "outputs": [],
   "source": [
    "import pandas as pd\n",
    "import numpy as np\n",
    "from matplotlib import pyplot as plt\n",
    "import seaborn as sns"
   ]
  },
  {
   "cell_type": "code",
   "execution_count": 2,
   "metadata": {},
   "outputs": [
    {
     "data": {
      "text/html": [
       "<div>\n",
       "<style scoped>\n",
       "    .dataframe tbody tr th:only-of-type {\n",
       "        vertical-align: middle;\n",
       "    }\n",
       "\n",
       "    .dataframe tbody tr th {\n",
       "        vertical-align: top;\n",
       "    }\n",
       "\n",
       "    .dataframe thead th {\n",
       "        text-align: right;\n",
       "    }\n",
       "</style>\n",
       "<table border=\"1\" class=\"dataframe\">\n",
       "  <thead>\n",
       "    <tr style=\"text-align: right;\">\n",
       "      <th></th>\n",
       "      <th>id</th>\n",
       "      <th>imdb_id</th>\n",
       "      <th>popularity</th>\n",
       "      <th>budget</th>\n",
       "      <th>revenue</th>\n",
       "      <th>original_title</th>\n",
       "      <th>cast</th>\n",
       "      <th>homepage</th>\n",
       "      <th>director</th>\n",
       "      <th>tagline</th>\n",
       "      <th>...</th>\n",
       "      <th>overview</th>\n",
       "      <th>runtime</th>\n",
       "      <th>genres</th>\n",
       "      <th>production_companies</th>\n",
       "      <th>release_date</th>\n",
       "      <th>vote_count</th>\n",
       "      <th>vote_average</th>\n",
       "      <th>release_year</th>\n",
       "      <th>budget_adj</th>\n",
       "      <th>revenue_adj</th>\n",
       "    </tr>\n",
       "  </thead>\n",
       "  <tbody>\n",
       "    <tr>\n",
       "      <th>0</th>\n",
       "      <td>135397</td>\n",
       "      <td>tt0369610</td>\n",
       "      <td>32.985763</td>\n",
       "      <td>150000000</td>\n",
       "      <td>1513528810</td>\n",
       "      <td>Jurassic World</td>\n",
       "      <td>Chris Pratt|Bryce Dallas Howard|Irrfan Khan|Vi...</td>\n",
       "      <td>http://www.jurassicworld.com/</td>\n",
       "      <td>Colin Trevorrow</td>\n",
       "      <td>The park is open.</td>\n",
       "      <td>...</td>\n",
       "      <td>Twenty-two years after the events of Jurassic ...</td>\n",
       "      <td>124</td>\n",
       "      <td>Action|Adventure|Science Fiction|Thriller</td>\n",
       "      <td>Universal Studios|Amblin Entertainment|Legenda...</td>\n",
       "      <td>6/9/15</td>\n",
       "      <td>5562</td>\n",
       "      <td>6.5</td>\n",
       "      <td>2015</td>\n",
       "      <td>1.379999e+08</td>\n",
       "      <td>1.392446e+09</td>\n",
       "    </tr>\n",
       "    <tr>\n",
       "      <th>1</th>\n",
       "      <td>76341</td>\n",
       "      <td>tt1392190</td>\n",
       "      <td>28.419936</td>\n",
       "      <td>150000000</td>\n",
       "      <td>378436354</td>\n",
       "      <td>Mad Max: Fury Road</td>\n",
       "      <td>Tom Hardy|Charlize Theron|Hugh Keays-Byrne|Nic...</td>\n",
       "      <td>http://www.madmaxmovie.com/</td>\n",
       "      <td>George Miller</td>\n",
       "      <td>What a Lovely Day.</td>\n",
       "      <td>...</td>\n",
       "      <td>An apocalyptic story set in the furthest reach...</td>\n",
       "      <td>120</td>\n",
       "      <td>Action|Adventure|Science Fiction|Thriller</td>\n",
       "      <td>Village Roadshow Pictures|Kennedy Miller Produ...</td>\n",
       "      <td>5/13/15</td>\n",
       "      <td>6185</td>\n",
       "      <td>7.1</td>\n",
       "      <td>2015</td>\n",
       "      <td>1.379999e+08</td>\n",
       "      <td>3.481613e+08</td>\n",
       "    </tr>\n",
       "    <tr>\n",
       "      <th>2</th>\n",
       "      <td>262500</td>\n",
       "      <td>tt2908446</td>\n",
       "      <td>13.112507</td>\n",
       "      <td>110000000</td>\n",
       "      <td>295238201</td>\n",
       "      <td>Insurgent</td>\n",
       "      <td>Shailene Woodley|Theo James|Kate Winslet|Ansel...</td>\n",
       "      <td>http://www.thedivergentseries.movie/#insurgent</td>\n",
       "      <td>Robert Schwentke</td>\n",
       "      <td>One Choice Can Destroy You</td>\n",
       "      <td>...</td>\n",
       "      <td>Beatrice Prior must confront her inner demons ...</td>\n",
       "      <td>119</td>\n",
       "      <td>Adventure|Science Fiction|Thriller</td>\n",
       "      <td>Summit Entertainment|Mandeville Films|Red Wago...</td>\n",
       "      <td>3/18/15</td>\n",
       "      <td>2480</td>\n",
       "      <td>6.3</td>\n",
       "      <td>2015</td>\n",
       "      <td>1.012000e+08</td>\n",
       "      <td>2.716190e+08</td>\n",
       "    </tr>\n",
       "    <tr>\n",
       "      <th>3</th>\n",
       "      <td>140607</td>\n",
       "      <td>tt2488496</td>\n",
       "      <td>11.173104</td>\n",
       "      <td>200000000</td>\n",
       "      <td>2068178225</td>\n",
       "      <td>Star Wars: The Force Awakens</td>\n",
       "      <td>Harrison Ford|Mark Hamill|Carrie Fisher|Adam D...</td>\n",
       "      <td>http://www.starwars.com/films/star-wars-episod...</td>\n",
       "      <td>J.J. Abrams</td>\n",
       "      <td>Every generation has a story.</td>\n",
       "      <td>...</td>\n",
       "      <td>Thirty years after defeating the Galactic Empi...</td>\n",
       "      <td>136</td>\n",
       "      <td>Action|Adventure|Science Fiction|Fantasy</td>\n",
       "      <td>Lucasfilm|Truenorth Productions|Bad Robot</td>\n",
       "      <td>12/15/15</td>\n",
       "      <td>5292</td>\n",
       "      <td>7.5</td>\n",
       "      <td>2015</td>\n",
       "      <td>1.839999e+08</td>\n",
       "      <td>1.902723e+09</td>\n",
       "    </tr>\n",
       "    <tr>\n",
       "      <th>4</th>\n",
       "      <td>168259</td>\n",
       "      <td>tt2820852</td>\n",
       "      <td>9.335014</td>\n",
       "      <td>190000000</td>\n",
       "      <td>1506249360</td>\n",
       "      <td>Furious 7</td>\n",
       "      <td>Vin Diesel|Paul Walker|Jason Statham|Michelle ...</td>\n",
       "      <td>http://www.furious7.com/</td>\n",
       "      <td>James Wan</td>\n",
       "      <td>Vengeance Hits Home</td>\n",
       "      <td>...</td>\n",
       "      <td>Deckard Shaw seeks revenge against Dominic Tor...</td>\n",
       "      <td>137</td>\n",
       "      <td>Action|Crime|Thriller</td>\n",
       "      <td>Universal Pictures|Original Film|Media Rights ...</td>\n",
       "      <td>4/1/15</td>\n",
       "      <td>2947</td>\n",
       "      <td>7.3</td>\n",
       "      <td>2015</td>\n",
       "      <td>1.747999e+08</td>\n",
       "      <td>1.385749e+09</td>\n",
       "    </tr>\n",
       "  </tbody>\n",
       "</table>\n",
       "<p>5 rows × 21 columns</p>\n",
       "</div>"
      ],
      "text/plain": [
       "       id    imdb_id  popularity     budget     revenue  \\\n",
       "0  135397  tt0369610   32.985763  150000000  1513528810   \n",
       "1   76341  tt1392190   28.419936  150000000   378436354   \n",
       "2  262500  tt2908446   13.112507  110000000   295238201   \n",
       "3  140607  tt2488496   11.173104  200000000  2068178225   \n",
       "4  168259  tt2820852    9.335014  190000000  1506249360   \n",
       "\n",
       "                 original_title  \\\n",
       "0                Jurassic World   \n",
       "1            Mad Max: Fury Road   \n",
       "2                     Insurgent   \n",
       "3  Star Wars: The Force Awakens   \n",
       "4                     Furious 7   \n",
       "\n",
       "                                                cast  \\\n",
       "0  Chris Pratt|Bryce Dallas Howard|Irrfan Khan|Vi...   \n",
       "1  Tom Hardy|Charlize Theron|Hugh Keays-Byrne|Nic...   \n",
       "2  Shailene Woodley|Theo James|Kate Winslet|Ansel...   \n",
       "3  Harrison Ford|Mark Hamill|Carrie Fisher|Adam D...   \n",
       "4  Vin Diesel|Paul Walker|Jason Statham|Michelle ...   \n",
       "\n",
       "                                            homepage          director  \\\n",
       "0                      http://www.jurassicworld.com/   Colin Trevorrow   \n",
       "1                        http://www.madmaxmovie.com/     George Miller   \n",
       "2     http://www.thedivergentseries.movie/#insurgent  Robert Schwentke   \n",
       "3  http://www.starwars.com/films/star-wars-episod...       J.J. Abrams   \n",
       "4                           http://www.furious7.com/         James Wan   \n",
       "\n",
       "                         tagline      ...       \\\n",
       "0              The park is open.      ...        \n",
       "1             What a Lovely Day.      ...        \n",
       "2     One Choice Can Destroy You      ...        \n",
       "3  Every generation has a story.      ...        \n",
       "4            Vengeance Hits Home      ...        \n",
       "\n",
       "                                            overview runtime  \\\n",
       "0  Twenty-two years after the events of Jurassic ...     124   \n",
       "1  An apocalyptic story set in the furthest reach...     120   \n",
       "2  Beatrice Prior must confront her inner demons ...     119   \n",
       "3  Thirty years after defeating the Galactic Empi...     136   \n",
       "4  Deckard Shaw seeks revenge against Dominic Tor...     137   \n",
       "\n",
       "                                      genres  \\\n",
       "0  Action|Adventure|Science Fiction|Thriller   \n",
       "1  Action|Adventure|Science Fiction|Thriller   \n",
       "2         Adventure|Science Fiction|Thriller   \n",
       "3   Action|Adventure|Science Fiction|Fantasy   \n",
       "4                      Action|Crime|Thriller   \n",
       "\n",
       "                                production_companies release_date vote_count  \\\n",
       "0  Universal Studios|Amblin Entertainment|Legenda...       6/9/15       5562   \n",
       "1  Village Roadshow Pictures|Kennedy Miller Produ...      5/13/15       6185   \n",
       "2  Summit Entertainment|Mandeville Films|Red Wago...      3/18/15       2480   \n",
       "3          Lucasfilm|Truenorth Productions|Bad Robot     12/15/15       5292   \n",
       "4  Universal Pictures|Original Film|Media Rights ...       4/1/15       2947   \n",
       "\n",
       "   vote_average  release_year    budget_adj   revenue_adj  \n",
       "0           6.5          2015  1.379999e+08  1.392446e+09  \n",
       "1           7.1          2015  1.379999e+08  3.481613e+08  \n",
       "2           6.3          2015  1.012000e+08  2.716190e+08  \n",
       "3           7.5          2015  1.839999e+08  1.902723e+09  \n",
       "4           7.3          2015  1.747999e+08  1.385749e+09  \n",
       "\n",
       "[5 rows x 21 columns]"
      ]
     },
     "execution_count": 2,
     "metadata": {},
     "output_type": "execute_result"
    }
   ],
   "source": [
    "df = pd.read_csv('tmdb-movies.csv')\n",
    "df.head()"
   ]
  },
  {
   "cell_type": "code",
   "execution_count": 3,
   "metadata": {},
   "outputs": [
    {
     "data": {
      "text/plain": [
       "(10866, 21)"
      ]
     },
     "execution_count": 3,
     "metadata": {},
     "output_type": "execute_result"
    }
   ],
   "source": [
    "# what is the shape of our data?\n",
    "df.shape\n"
   ]
  },
  {
   "cell_type": "markdown",
   "metadata": {},
   "source": [
    "Our data consist of 10866 rows and 21 columns"
   ]
  },
  {
   "cell_type": "code",
   "execution_count": 4,
   "metadata": {
    "scrolled": true
   },
   "outputs": [
    {
     "name": "stdout",
     "output_type": "stream",
     "text": [
      "<class 'pandas.core.frame.DataFrame'>\n",
      "RangeIndex: 10866 entries, 0 to 10865\n",
      "Data columns (total 21 columns):\n",
      "id                      10866 non-null int64\n",
      "imdb_id                 10856 non-null object\n",
      "popularity              10866 non-null float64\n",
      "budget                  10866 non-null int64\n",
      "revenue                 10866 non-null int64\n",
      "original_title          10866 non-null object\n",
      "cast                    10790 non-null object\n",
      "homepage                2936 non-null object\n",
      "director                10822 non-null object\n",
      "tagline                 8042 non-null object\n",
      "keywords                9373 non-null object\n",
      "overview                10862 non-null object\n",
      "runtime                 10866 non-null int64\n",
      "genres                  10843 non-null object\n",
      "production_companies    9836 non-null object\n",
      "release_date            10866 non-null object\n",
      "vote_count              10866 non-null int64\n",
      "vote_average            10866 non-null float64\n",
      "release_year            10866 non-null int64\n",
      "budget_adj              10866 non-null float64\n",
      "revenue_adj             10866 non-null float64\n",
      "dtypes: float64(4), int64(6), object(11)\n",
      "memory usage: 1.7+ MB\n"
     ]
    }
   ],
   "source": [
    "# investigate the datatypes present and the missing values.\n",
    "df.info()"
   ]
  },
  {
   "cell_type": "markdown",
   "metadata": {},
   "source": [
    "From what we can see above, some columns have missing values. we might decide to fill the missing values by a metric for the numeric columns. also looking at the info, i see some columns that will not be necessary for our analysis. These should be dropped."
   ]
  },
  {
   "cell_type": "markdown",
   "metadata": {},
   "source": [
    "   The values in each field is in its right type.There's so much work to be done here.hence no need for typecasting. \n",
    "   I will shrink the number of fields from 21 to 14 based on the ones i think will be relevant for the analysis.\n",
    "   it is also important to note that we have some missing values in the production_companies field. "
   ]
  },
  {
   "cell_type": "code",
   "execution_count": 5,
   "metadata": {},
   "outputs": [
    {
     "name": "stdout",
     "output_type": "stream",
     "text": [
      "id\n",
      "imdb_id\n",
      "popularity\n",
      "budget\n",
      "revenue\n",
      "original_title\n",
      "cast\n",
      "homepage\n",
      "director\n",
      "tagline\n",
      "keywords\n",
      "overview\n",
      "runtime\n",
      "genres\n",
      "production_companies\n",
      "release_date\n",
      "vote_count\n",
      "vote_average\n",
      "release_year\n",
      "budget_adj\n",
      "revenue_adj\n"
     ]
    }
   ],
   "source": [
    "for col in df.columns:\n",
    "    print(col)"
   ]
  },
  {
   "cell_type": "code",
   "execution_count": 6,
   "metadata": {},
   "outputs": [
    {
     "data": {
      "text/html": [
       "<div>\n",
       "<style scoped>\n",
       "    .dataframe tbody tr th:only-of-type {\n",
       "        vertical-align: middle;\n",
       "    }\n",
       "\n",
       "    .dataframe tbody tr th {\n",
       "        vertical-align: top;\n",
       "    }\n",
       "\n",
       "    .dataframe thead th {\n",
       "        text-align: right;\n",
       "    }\n",
       "</style>\n",
       "<table border=\"1\" class=\"dataframe\">\n",
       "  <thead>\n",
       "    <tr style=\"text-align: right;\">\n",
       "      <th></th>\n",
       "      <th>id</th>\n",
       "      <th>imdb_id</th>\n",
       "      <th>popularity</th>\n",
       "      <th>budget</th>\n",
       "      <th>revenue</th>\n",
       "      <th>original_title</th>\n",
       "      <th>cast</th>\n",
       "      <th>homepage</th>\n",
       "      <th>director</th>\n",
       "      <th>tagline</th>\n",
       "      <th>...</th>\n",
       "      <th>overview</th>\n",
       "      <th>runtime</th>\n",
       "      <th>genres</th>\n",
       "      <th>production_companies</th>\n",
       "      <th>release_date</th>\n",
       "      <th>vote_count</th>\n",
       "      <th>vote_average</th>\n",
       "      <th>release_year</th>\n",
       "      <th>budget_adj</th>\n",
       "      <th>revenue_adj</th>\n",
       "    </tr>\n",
       "  </thead>\n",
       "  <tbody>\n",
       "    <tr>\n",
       "      <th>7301</th>\n",
       "      <td>35280</td>\n",
       "      <td>tt0069050</td>\n",
       "      <td>0.095011</td>\n",
       "      <td>0</td>\n",
       "      <td>0</td>\n",
       "      <td>The Other</td>\n",
       "      <td>Uta Hagen|Diana Muldaur|Chris Udvarnoky|Martin...</td>\n",
       "      <td>NaN</td>\n",
       "      <td>Robert Mulligan</td>\n",
       "      <td>Niles and Holland are as close as twin brother...</td>\n",
       "      <td>...</td>\n",
       "      <td>Chilling and eerie, this supernatural tale of ...</td>\n",
       "      <td>108</td>\n",
       "      <td>Drama|Horror|Mystery</td>\n",
       "      <td>Twentieth Century Fox Film Corporation|Benchma...</td>\n",
       "      <td>5/23/72</td>\n",
       "      <td>10</td>\n",
       "      <td>5.3</td>\n",
       "      <td>1972</td>\n",
       "      <td>0.000000e+00</td>\n",
       "      <td>0.000000e+00</td>\n",
       "    </tr>\n",
       "    <tr>\n",
       "      <th>9474</th>\n",
       "      <td>11966</td>\n",
       "      <td>tt0096101</td>\n",
       "      <td>0.689972</td>\n",
       "      <td>0</td>\n",
       "      <td>21630088</td>\n",
       "      <td>Short Circuit 2</td>\n",
       "      <td>Fisher Stevens|Michael McKean|Cynthia Gibb|Jac...</td>\n",
       "      <td>NaN</td>\n",
       "      <td>Kenneth Johnson</td>\n",
       "      <td>The adventures of America's most electric lead...</td>\n",
       "      <td>...</td>\n",
       "      <td>Robot Johnny Five comes to the city and gets m...</td>\n",
       "      <td>110</td>\n",
       "      <td>Comedy|Family|Science Fiction|Drama</td>\n",
       "      <td>David Foster Productions|TriStar Pictures</td>\n",
       "      <td>7/6/88</td>\n",
       "      <td>86</td>\n",
       "      <td>5.4</td>\n",
       "      <td>1988</td>\n",
       "      <td>0.000000e+00</td>\n",
       "      <td>3.988353e+07</td>\n",
       "    </tr>\n",
       "    <tr>\n",
       "      <th>1165</th>\n",
       "      <td>288445</td>\n",
       "      <td>tt3593120</td>\n",
       "      <td>0.163690</td>\n",
       "      <td>0</td>\n",
       "      <td>0</td>\n",
       "      <td>The Device</td>\n",
       "      <td>Angela DiMarco|David S. Hogan|Kate Alden|Gabri...</td>\n",
       "      <td>http://www.theoctoberpeople.net</td>\n",
       "      <td>Jeremy Berg</td>\n",
       "      <td>NaN</td>\n",
       "      <td>...</td>\n",
       "      <td>Abby and Rebecca Powell haven't seen each othe...</td>\n",
       "      <td>90</td>\n",
       "      <td>Thriller|Horror|Science Fiction</td>\n",
       "      <td>Ruthless Pictures|The October People</td>\n",
       "      <td>12/16/14</td>\n",
       "      <td>16</td>\n",
       "      <td>3.3</td>\n",
       "      <td>2014</td>\n",
       "      <td>0.000000e+00</td>\n",
       "      <td>0.000000e+00</td>\n",
       "    </tr>\n",
       "    <tr>\n",
       "      <th>4105</th>\n",
       "      <td>9260</td>\n",
       "      <td>tt0271259</td>\n",
       "      <td>0.249411</td>\n",
       "      <td>1200000</td>\n",
       "      <td>0</td>\n",
       "      <td>Welcome to Collinwood</td>\n",
       "      <td>William H. Macy|Isaiah Washington|Sam Rockwell...</td>\n",
       "      <td>NaN</td>\n",
       "      <td>Anthony Russo|Joe Russo</td>\n",
       "      <td>Five guys. One safe. No brains.</td>\n",
       "      <td>...</td>\n",
       "      <td>Five hapless inner-city low-lifes unsuccessful...</td>\n",
       "      <td>86</td>\n",
       "      <td>Comedy|Crime</td>\n",
       "      <td>Gaylord Films</td>\n",
       "      <td>5/24/02</td>\n",
       "      <td>22</td>\n",
       "      <td>6.2</td>\n",
       "      <td>2002</td>\n",
       "      <td>1.454714e+06</td>\n",
       "      <td>0.000000e+00</td>\n",
       "    </tr>\n",
       "    <tr>\n",
       "      <th>5840</th>\n",
       "      <td>192136</td>\n",
       "      <td>tt2304771</td>\n",
       "      <td>0.229656</td>\n",
       "      <td>35000000</td>\n",
       "      <td>27330000</td>\n",
       "      <td>Mandela: Long Walk to Freedom</td>\n",
       "      <td>Idris Elba|Naomie Harris|Tony Kgoroge|Riaad Mo...</td>\n",
       "      <td>NaN</td>\n",
       "      <td>Justin Chadwick</td>\n",
       "      <td>It is an ideal for which I am prepared to die.</td>\n",
       "      <td>...</td>\n",
       "      <td>A chronicle of Nelson Mandela's life journey f...</td>\n",
       "      <td>141</td>\n",
       "      <td>Drama|History</td>\n",
       "      <td>Distant Horizons|Film Afrika Worldwide|Videovi...</td>\n",
       "      <td>12/6/13</td>\n",
       "      <td>165</td>\n",
       "      <td>6.5</td>\n",
       "      <td>2013</td>\n",
       "      <td>3.276117e+07</td>\n",
       "      <td>2.558179e+07</td>\n",
       "    </tr>\n",
       "  </tbody>\n",
       "</table>\n",
       "<p>5 rows × 21 columns</p>\n",
       "</div>"
      ],
      "text/plain": [
       "          id    imdb_id  popularity    budget   revenue  \\\n",
       "7301   35280  tt0069050    0.095011         0         0   \n",
       "9474   11966  tt0096101    0.689972         0  21630088   \n",
       "1165  288445  tt3593120    0.163690         0         0   \n",
       "4105    9260  tt0271259    0.249411   1200000         0   \n",
       "5840  192136  tt2304771    0.229656  35000000  27330000   \n",
       "\n",
       "                     original_title  \\\n",
       "7301                      The Other   \n",
       "9474                Short Circuit 2   \n",
       "1165                     The Device   \n",
       "4105          Welcome to Collinwood   \n",
       "5840  Mandela: Long Walk to Freedom   \n",
       "\n",
       "                                                   cast  \\\n",
       "7301  Uta Hagen|Diana Muldaur|Chris Udvarnoky|Martin...   \n",
       "9474  Fisher Stevens|Michael McKean|Cynthia Gibb|Jac...   \n",
       "1165  Angela DiMarco|David S. Hogan|Kate Alden|Gabri...   \n",
       "4105  William H. Macy|Isaiah Washington|Sam Rockwell...   \n",
       "5840  Idris Elba|Naomie Harris|Tony Kgoroge|Riaad Mo...   \n",
       "\n",
       "                             homepage                 director  \\\n",
       "7301                              NaN          Robert Mulligan   \n",
       "9474                              NaN          Kenneth Johnson   \n",
       "1165  http://www.theoctoberpeople.net              Jeremy Berg   \n",
       "4105                              NaN  Anthony Russo|Joe Russo   \n",
       "5840                              NaN          Justin Chadwick   \n",
       "\n",
       "                                                tagline      ...       \\\n",
       "7301  Niles and Holland are as close as twin brother...      ...        \n",
       "9474  The adventures of America's most electric lead...      ...        \n",
       "1165                                                NaN      ...        \n",
       "4105                    Five guys. One safe. No brains.      ...        \n",
       "5840     It is an ideal for which I am prepared to die.      ...        \n",
       "\n",
       "                                               overview runtime  \\\n",
       "7301  Chilling and eerie, this supernatural tale of ...     108   \n",
       "9474  Robot Johnny Five comes to the city and gets m...     110   \n",
       "1165  Abby and Rebecca Powell haven't seen each othe...      90   \n",
       "4105  Five hapless inner-city low-lifes unsuccessful...      86   \n",
       "5840  A chronicle of Nelson Mandela's life journey f...     141   \n",
       "\n",
       "                                   genres  \\\n",
       "7301                 Drama|Horror|Mystery   \n",
       "9474  Comedy|Family|Science Fiction|Drama   \n",
       "1165      Thriller|Horror|Science Fiction   \n",
       "4105                         Comedy|Crime   \n",
       "5840                        Drama|History   \n",
       "\n",
       "                                   production_companies release_date  \\\n",
       "7301  Twentieth Century Fox Film Corporation|Benchma...      5/23/72   \n",
       "9474          David Foster Productions|TriStar Pictures       7/6/88   \n",
       "1165               Ruthless Pictures|The October People     12/16/14   \n",
       "4105                                      Gaylord Films      5/24/02   \n",
       "5840  Distant Horizons|Film Afrika Worldwide|Videovi...      12/6/13   \n",
       "\n",
       "     vote_count  vote_average  release_year    budget_adj   revenue_adj  \n",
       "7301         10           5.3          1972  0.000000e+00  0.000000e+00  \n",
       "9474         86           5.4          1988  0.000000e+00  3.988353e+07  \n",
       "1165         16           3.3          2014  0.000000e+00  0.000000e+00  \n",
       "4105         22           6.2          2002  1.454714e+06  0.000000e+00  \n",
       "5840        165           6.5          2013  3.276117e+07  2.558179e+07  \n",
       "\n",
       "[5 rows x 21 columns]"
      ]
     },
     "execution_count": 6,
     "metadata": {},
     "output_type": "execute_result"
    }
   ],
   "source": [
    "# get a view of a random sample of the data\n",
    "df.sample(5)"
   ]
  },
  {
   "cell_type": "raw",
   "metadata": {},
   "source": [
    "From the sampled table, it should be noted that the revenues and budget columns that show a value of zero in them should be treated as nulls. It doesn't make sense not to have a budget for a movie. If a movies is produced, then there's a cost of production which should not be zero. Likewise the fields with zeros for the revenue shows that it has the same problem. These two fields will be treated as nulls when we see a value of zero in them."
   ]
  },
  {
   "cell_type": "code",
   "execution_count": 7,
   "metadata": {},
   "outputs": [
    {
     "data": {
      "text/plain": [
       "0           5696\n",
       "20000000     190\n",
       "15000000     183\n",
       "25000000     178\n",
       "10000000     176\n",
       "Name: budget, dtype: int64"
      ]
     },
     "execution_count": 7,
     "metadata": {},
     "output_type": "execute_result"
    }
   ],
   "source": [
    "# run a frequency check on the budget field.  \n",
    "df['budget'].value_counts().head()"
   ]
  },
  {
   "cell_type": "markdown",
   "metadata": {},
   "source": [
    "The output shows that we have a lot of zeros in the field above. recall we said that this also means that those records should be treated as nulls. this is perculiar to this dataset. having so much nulls, we have to do something about this field."
   ]
  },
  {
   "cell_type": "code",
   "execution_count": 8,
   "metadata": {
    "scrolled": true
   },
   "outputs": [
    {
     "data": {
      "text/plain": [
       "0           6016\n",
       "12000000      10\n",
       "10000000       8\n",
       "11000000       7\n",
       "6000000        6\n",
       "Name: revenue, dtype: int64"
      ]
     },
     "execution_count": 8,
     "metadata": {},
     "output_type": "execute_result"
    }
   ],
   "source": [
    "# check the amount of zero records in the budget column.\n",
    "df['revenue'].value_counts().head()"
   ]
  },
  {
   "cell_type": "markdown",
   "metadata": {},
   "source": [
    "From the output of the code above, it shows that we have more values that are missing in budget and revenue fields in thousands. This missing values are actually showing as zeros in the records. It could be very misleading to use them like that in our analysis as it would give us false results at the end."
   ]
  },
  {
   "cell_type": "code",
   "execution_count": 9,
   "metadata": {},
   "outputs": [
    {
     "data": {
      "text/plain": [
       "7930"
      ]
     },
     "execution_count": 9,
     "metadata": {},
     "output_type": "execute_result"
    }
   ],
   "source": [
    "#investigate the homepage field\n",
    "df['homepage'].isnull().sum()"
   ]
  },
  {
   "cell_type": "markdown",
   "metadata": {},
   "source": [
    "this shows that we have so many missing values in this field too."
   ]
  },
  {
   "cell_type": "markdown",
   "metadata": {},
   "source": [
    "\n",
    "### Data Cleaning\n",
    "> Here our main focus is to clean the data and put it in the right state before we begin our analysis. \n",
    "\n",
    "> Here we will do the following:\n",
    "> 1. Drop Fields that will not be necessary for the Analysis\n",
    "> 2. Deal with the missing values in the Fields.\n",
    "> 3. Create a new calculated Field that will be useful for our analysis.\n",
    " "
   ]
  },
  {
   "cell_type": "markdown",
   "metadata": {},
   "source": [
    "In this stage, i will be cleaning the data. \n",
    "I will drop some columns that are not relevant to the research question i have and also others that contain a lot of missing values. \n",
    "Columns to be dropped are:\n",
    "1. budget\n",
    "2. revenue\n",
    "3. homepage\n",
    "4. id\n",
    "5. tagline\n",
    "6. overview\n",
    "7. imdb_id\n",
    "8. release_date\n",
    "> I had two columns for revenues and budget. i have to drop one of them for each.\n",
    "Then i will create a new field called profit that will be used for Analysis.\n"
   ]
  },
  {
   "cell_type": "code",
   "execution_count": 10,
   "metadata": {
    "scrolled": true
   },
   "outputs": [
    {
     "data": {
      "text/html": [
       "<div>\n",
       "<style scoped>\n",
       "    .dataframe tbody tr th:only-of-type {\n",
       "        vertical-align: middle;\n",
       "    }\n",
       "\n",
       "    .dataframe tbody tr th {\n",
       "        vertical-align: top;\n",
       "    }\n",
       "\n",
       "    .dataframe thead th {\n",
       "        text-align: right;\n",
       "    }\n",
       "</style>\n",
       "<table border=\"1\" class=\"dataframe\">\n",
       "  <thead>\n",
       "    <tr style=\"text-align: right;\">\n",
       "      <th></th>\n",
       "      <th>popularity</th>\n",
       "      <th>original_title</th>\n",
       "      <th>cast</th>\n",
       "      <th>director</th>\n",
       "      <th>keywords</th>\n",
       "      <th>runtime</th>\n",
       "      <th>genres</th>\n",
       "      <th>production_companies</th>\n",
       "      <th>vote_count</th>\n",
       "      <th>vote_average</th>\n",
       "      <th>release_year</th>\n",
       "      <th>budget_adj</th>\n",
       "      <th>revenue_adj</th>\n",
       "    </tr>\n",
       "  </thead>\n",
       "  <tbody>\n",
       "    <tr>\n",
       "      <th>0</th>\n",
       "      <td>32.985763</td>\n",
       "      <td>Jurassic World</td>\n",
       "      <td>Chris Pratt|Bryce Dallas Howard|Irrfan Khan|Vi...</td>\n",
       "      <td>Colin Trevorrow</td>\n",
       "      <td>monster|dna|tyrannosaurus rex|velociraptor|island</td>\n",
       "      <td>124</td>\n",
       "      <td>Action|Adventure|Science Fiction|Thriller</td>\n",
       "      <td>Universal Studios|Amblin Entertainment|Legenda...</td>\n",
       "      <td>5562</td>\n",
       "      <td>6.5</td>\n",
       "      <td>2015</td>\n",
       "      <td>1.379999e+08</td>\n",
       "      <td>1.392446e+09</td>\n",
       "    </tr>\n",
       "    <tr>\n",
       "      <th>1</th>\n",
       "      <td>28.419936</td>\n",
       "      <td>Mad Max: Fury Road</td>\n",
       "      <td>Tom Hardy|Charlize Theron|Hugh Keays-Byrne|Nic...</td>\n",
       "      <td>George Miller</td>\n",
       "      <td>future|chase|post-apocalyptic|dystopia|australia</td>\n",
       "      <td>120</td>\n",
       "      <td>Action|Adventure|Science Fiction|Thriller</td>\n",
       "      <td>Village Roadshow Pictures|Kennedy Miller Produ...</td>\n",
       "      <td>6185</td>\n",
       "      <td>7.1</td>\n",
       "      <td>2015</td>\n",
       "      <td>1.379999e+08</td>\n",
       "      <td>3.481613e+08</td>\n",
       "    </tr>\n",
       "    <tr>\n",
       "      <th>2</th>\n",
       "      <td>13.112507</td>\n",
       "      <td>Insurgent</td>\n",
       "      <td>Shailene Woodley|Theo James|Kate Winslet|Ansel...</td>\n",
       "      <td>Robert Schwentke</td>\n",
       "      <td>based on novel|revolution|dystopia|sequel|dyst...</td>\n",
       "      <td>119</td>\n",
       "      <td>Adventure|Science Fiction|Thriller</td>\n",
       "      <td>Summit Entertainment|Mandeville Films|Red Wago...</td>\n",
       "      <td>2480</td>\n",
       "      <td>6.3</td>\n",
       "      <td>2015</td>\n",
       "      <td>1.012000e+08</td>\n",
       "      <td>2.716190e+08</td>\n",
       "    </tr>\n",
       "    <tr>\n",
       "      <th>3</th>\n",
       "      <td>11.173104</td>\n",
       "      <td>Star Wars: The Force Awakens</td>\n",
       "      <td>Harrison Ford|Mark Hamill|Carrie Fisher|Adam D...</td>\n",
       "      <td>J.J. Abrams</td>\n",
       "      <td>android|spaceship|jedi|space opera|3d</td>\n",
       "      <td>136</td>\n",
       "      <td>Action|Adventure|Science Fiction|Fantasy</td>\n",
       "      <td>Lucasfilm|Truenorth Productions|Bad Robot</td>\n",
       "      <td>5292</td>\n",
       "      <td>7.5</td>\n",
       "      <td>2015</td>\n",
       "      <td>1.839999e+08</td>\n",
       "      <td>1.902723e+09</td>\n",
       "    </tr>\n",
       "    <tr>\n",
       "      <th>4</th>\n",
       "      <td>9.335014</td>\n",
       "      <td>Furious 7</td>\n",
       "      <td>Vin Diesel|Paul Walker|Jason Statham|Michelle ...</td>\n",
       "      <td>James Wan</td>\n",
       "      <td>car race|speed|revenge|suspense|car</td>\n",
       "      <td>137</td>\n",
       "      <td>Action|Crime|Thriller</td>\n",
       "      <td>Universal Pictures|Original Film|Media Rights ...</td>\n",
       "      <td>2947</td>\n",
       "      <td>7.3</td>\n",
       "      <td>2015</td>\n",
       "      <td>1.747999e+08</td>\n",
       "      <td>1.385749e+09</td>\n",
       "    </tr>\n",
       "  </tbody>\n",
       "</table>\n",
       "</div>"
      ],
      "text/plain": [
       "   popularity                original_title  \\\n",
       "0   32.985763                Jurassic World   \n",
       "1   28.419936            Mad Max: Fury Road   \n",
       "2   13.112507                     Insurgent   \n",
       "3   11.173104  Star Wars: The Force Awakens   \n",
       "4    9.335014                     Furious 7   \n",
       "\n",
       "                                                cast          director  \\\n",
       "0  Chris Pratt|Bryce Dallas Howard|Irrfan Khan|Vi...   Colin Trevorrow   \n",
       "1  Tom Hardy|Charlize Theron|Hugh Keays-Byrne|Nic...     George Miller   \n",
       "2  Shailene Woodley|Theo James|Kate Winslet|Ansel...  Robert Schwentke   \n",
       "3  Harrison Ford|Mark Hamill|Carrie Fisher|Adam D...       J.J. Abrams   \n",
       "4  Vin Diesel|Paul Walker|Jason Statham|Michelle ...         James Wan   \n",
       "\n",
       "                                            keywords  runtime  \\\n",
       "0  monster|dna|tyrannosaurus rex|velociraptor|island      124   \n",
       "1   future|chase|post-apocalyptic|dystopia|australia      120   \n",
       "2  based on novel|revolution|dystopia|sequel|dyst...      119   \n",
       "3              android|spaceship|jedi|space opera|3d      136   \n",
       "4                car race|speed|revenge|suspense|car      137   \n",
       "\n",
       "                                      genres  \\\n",
       "0  Action|Adventure|Science Fiction|Thriller   \n",
       "1  Action|Adventure|Science Fiction|Thriller   \n",
       "2         Adventure|Science Fiction|Thriller   \n",
       "3   Action|Adventure|Science Fiction|Fantasy   \n",
       "4                      Action|Crime|Thriller   \n",
       "\n",
       "                                production_companies  vote_count  \\\n",
       "0  Universal Studios|Amblin Entertainment|Legenda...        5562   \n",
       "1  Village Roadshow Pictures|Kennedy Miller Produ...        6185   \n",
       "2  Summit Entertainment|Mandeville Films|Red Wago...        2480   \n",
       "3          Lucasfilm|Truenorth Productions|Bad Robot        5292   \n",
       "4  Universal Pictures|Original Film|Media Rights ...        2947   \n",
       "\n",
       "   vote_average  release_year    budget_adj   revenue_adj  \n",
       "0           6.5          2015  1.379999e+08  1.392446e+09  \n",
       "1           7.1          2015  1.379999e+08  3.481613e+08  \n",
       "2           6.3          2015  1.012000e+08  2.716190e+08  \n",
       "3           7.5          2015  1.839999e+08  1.902723e+09  \n",
       "4           7.3          2015  1.747999e+08  1.385749e+09  "
      ]
     },
     "execution_count": 10,
     "metadata": {},
     "output_type": "execute_result"
    }
   ],
   "source": [
    "df.drop(['budget','revenue','homepage','id','tagline','overview','imdb_id','release_date'], axis=1, inplace=True)\n",
    "df.head()"
   ]
  },
  {
   "cell_type": "code",
   "execution_count": 11,
   "metadata": {},
   "outputs": [
    {
     "data": {
      "text/html": [
       "<div>\n",
       "<style scoped>\n",
       "    .dataframe tbody tr th:only-of-type {\n",
       "        vertical-align: middle;\n",
       "    }\n",
       "\n",
       "    .dataframe tbody tr th {\n",
       "        vertical-align: top;\n",
       "    }\n",
       "\n",
       "    .dataframe thead th {\n",
       "        text-align: right;\n",
       "    }\n",
       "</style>\n",
       "<table border=\"1\" class=\"dataframe\">\n",
       "  <thead>\n",
       "    <tr style=\"text-align: right;\">\n",
       "      <th></th>\n",
       "      <th>popularity</th>\n",
       "      <th>original_title</th>\n",
       "      <th>cast</th>\n",
       "      <th>director</th>\n",
       "      <th>keywords</th>\n",
       "      <th>runtime</th>\n",
       "      <th>genres</th>\n",
       "      <th>production_companies</th>\n",
       "      <th>vote_count</th>\n",
       "      <th>vote_average</th>\n",
       "      <th>release_year</th>\n",
       "      <th>budget_adj</th>\n",
       "      <th>revenue_adj</th>\n",
       "    </tr>\n",
       "  </thead>\n",
       "  <tbody>\n",
       "    <tr>\n",
       "      <th>10861</th>\n",
       "      <td>0.080598</td>\n",
       "      <td>The Endless Summer</td>\n",
       "      <td>Michael Hynson|Robert August|Lord 'Tally Ho' B...</td>\n",
       "      <td>Bruce Brown</td>\n",
       "      <td>surfer|surfboard|surfing</td>\n",
       "      <td>95</td>\n",
       "      <td>Documentary</td>\n",
       "      <td>Bruce Brown Films</td>\n",
       "      <td>11</td>\n",
       "      <td>7.4</td>\n",
       "      <td>1966</td>\n",
       "      <td>0.000000</td>\n",
       "      <td>0.0</td>\n",
       "    </tr>\n",
       "    <tr>\n",
       "      <th>10862</th>\n",
       "      <td>0.065543</td>\n",
       "      <td>Grand Prix</td>\n",
       "      <td>James Garner|Eva Marie Saint|Yves Montand|Tosh...</td>\n",
       "      <td>John Frankenheimer</td>\n",
       "      <td>car race|racing|formula 1</td>\n",
       "      <td>176</td>\n",
       "      <td>Action|Adventure|Drama</td>\n",
       "      <td>Cherokee Productions|Joel Productions|Douglas ...</td>\n",
       "      <td>20</td>\n",
       "      <td>5.7</td>\n",
       "      <td>1966</td>\n",
       "      <td>0.000000</td>\n",
       "      <td>0.0</td>\n",
       "    </tr>\n",
       "    <tr>\n",
       "      <th>10863</th>\n",
       "      <td>0.065141</td>\n",
       "      <td>Beregis Avtomobilya</td>\n",
       "      <td>Innokentiy Smoktunovskiy|Oleg Efremov|Georgi Z...</td>\n",
       "      <td>Eldar Ryazanov</td>\n",
       "      <td>car|trolley|stealing car</td>\n",
       "      <td>94</td>\n",
       "      <td>Mystery|Comedy</td>\n",
       "      <td>Mosfilm</td>\n",
       "      <td>11</td>\n",
       "      <td>6.5</td>\n",
       "      <td>1966</td>\n",
       "      <td>0.000000</td>\n",
       "      <td>0.0</td>\n",
       "    </tr>\n",
       "    <tr>\n",
       "      <th>10864</th>\n",
       "      <td>0.064317</td>\n",
       "      <td>What's Up, Tiger Lily?</td>\n",
       "      <td>Tatsuya Mihashi|Akiko Wakabayashi|Mie Hama|Joh...</td>\n",
       "      <td>Woody Allen</td>\n",
       "      <td>spoof</td>\n",
       "      <td>80</td>\n",
       "      <td>Action|Comedy</td>\n",
       "      <td>Benedict Pictures Corp.</td>\n",
       "      <td>22</td>\n",
       "      <td>5.4</td>\n",
       "      <td>1966</td>\n",
       "      <td>0.000000</td>\n",
       "      <td>0.0</td>\n",
       "    </tr>\n",
       "    <tr>\n",
       "      <th>10865</th>\n",
       "      <td>0.035919</td>\n",
       "      <td>Manos: The Hands of Fate</td>\n",
       "      <td>Harold P. Warren|Tom Neyman|John Reynolds|Dian...</td>\n",
       "      <td>Harold P. Warren</td>\n",
       "      <td>fire|gun|drive|sacrifice|flashlight</td>\n",
       "      <td>74</td>\n",
       "      <td>Horror</td>\n",
       "      <td>Norm-Iris</td>\n",
       "      <td>15</td>\n",
       "      <td>1.5</td>\n",
       "      <td>1966</td>\n",
       "      <td>127642.279154</td>\n",
       "      <td>0.0</td>\n",
       "    </tr>\n",
       "  </tbody>\n",
       "</table>\n",
       "</div>"
      ],
      "text/plain": [
       "       popularity            original_title  \\\n",
       "10861    0.080598        The Endless Summer   \n",
       "10862    0.065543                Grand Prix   \n",
       "10863    0.065141       Beregis Avtomobilya   \n",
       "10864    0.064317    What's Up, Tiger Lily?   \n",
       "10865    0.035919  Manos: The Hands of Fate   \n",
       "\n",
       "                                                    cast            director  \\\n",
       "10861  Michael Hynson|Robert August|Lord 'Tally Ho' B...         Bruce Brown   \n",
       "10862  James Garner|Eva Marie Saint|Yves Montand|Tosh...  John Frankenheimer   \n",
       "10863  Innokentiy Smoktunovskiy|Oleg Efremov|Georgi Z...      Eldar Ryazanov   \n",
       "10864  Tatsuya Mihashi|Akiko Wakabayashi|Mie Hama|Joh...         Woody Allen   \n",
       "10865  Harold P. Warren|Tom Neyman|John Reynolds|Dian...    Harold P. Warren   \n",
       "\n",
       "                                  keywords  runtime                  genres  \\\n",
       "10861             surfer|surfboard|surfing       95             Documentary   \n",
       "10862            car race|racing|formula 1      176  Action|Adventure|Drama   \n",
       "10863             car|trolley|stealing car       94          Mystery|Comedy   \n",
       "10864                                spoof       80           Action|Comedy   \n",
       "10865  fire|gun|drive|sacrifice|flashlight       74                  Horror   \n",
       "\n",
       "                                    production_companies  vote_count  \\\n",
       "10861                                  Bruce Brown Films          11   \n",
       "10862  Cherokee Productions|Joel Productions|Douglas ...          20   \n",
       "10863                                            Mosfilm          11   \n",
       "10864                            Benedict Pictures Corp.          22   \n",
       "10865                                          Norm-Iris          15   \n",
       "\n",
       "       vote_average  release_year     budget_adj  revenue_adj  \n",
       "10861           7.4          1966       0.000000          0.0  \n",
       "10862           5.7          1966       0.000000          0.0  \n",
       "10863           6.5          1966       0.000000          0.0  \n",
       "10864           5.4          1966       0.000000          0.0  \n",
       "10865           1.5          1966  127642.279154          0.0  "
      ]
     },
     "execution_count": 11,
     "metadata": {},
     "output_type": "execute_result"
    }
   ],
   "source": [
    "df.tail()"
   ]
  },
  {
   "cell_type": "markdown",
   "metadata": {},
   "source": [
    "Inspecting the table, i see zeros in the budget_adj and revenue_adj fields. this will be treated as nulls for the same reasons mentioned initially. "
   ]
  },
  {
   "cell_type": "markdown",
   "metadata": {},
   "source": [
    "What we have to do is check for the measures of central tendencies and pick one suitable to fill this missing values."
   ]
  },
  {
   "cell_type": "code",
   "execution_count": 12,
   "metadata": {},
   "outputs": [
    {
     "data": {
      "text/plain": [
       "51364363.253250986"
      ]
     },
     "execution_count": 12,
     "metadata": {},
     "output_type": "execute_result"
    }
   ],
   "source": [
    "# find the mean of the revenue\n",
    "df.revenue_adj.mean()"
   ]
  },
  {
   "cell_type": "code",
   "execution_count": 13,
   "metadata": {},
   "outputs": [
    {
     "data": {
      "text/plain": [
       "0    0.0\n",
       "dtype: float64"
      ]
     },
     "execution_count": 13,
     "metadata": {},
     "output_type": "execute_result"
    }
   ],
   "source": [
    "# find the mode of the revenue\n",
    "df.revenue_adj.mode()"
   ]
  },
  {
   "cell_type": "code",
   "execution_count": 14,
   "metadata": {},
   "outputs": [
    {
     "data": {
      "text/plain": [
       "0.0"
      ]
     },
     "execution_count": 14,
     "metadata": {},
     "output_type": "execute_result"
    }
   ],
   "source": [
    "# find the median of the revenue\n",
    "df.revenue_adj.median()"
   ]
  },
  {
   "cell_type": "code",
   "execution_count": 15,
   "metadata": {},
   "outputs": [
    {
     "data": {
      "text/plain": [
       "17551039.82288678"
      ]
     },
     "execution_count": 15,
     "metadata": {},
     "output_type": "execute_result"
    }
   ],
   "source": [
    "# find the mean of the budget\n",
    "df.budget_adj.mean()"
   ]
  },
  {
   "cell_type": "code",
   "execution_count": 16,
   "metadata": {},
   "outputs": [
    {
     "data": {
      "text/plain": [
       "0    0.0\n",
       "dtype: float64"
      ]
     },
     "execution_count": 16,
     "metadata": {},
     "output_type": "execute_result"
    }
   ],
   "source": [
    "# find the mode of the budget\n",
    "df.budget_adj.mode()"
   ]
  },
  {
   "cell_type": "code",
   "execution_count": 17,
   "metadata": {},
   "outputs": [
    {
     "data": {
      "text/plain": [
       "0.0"
      ]
     },
     "execution_count": 17,
     "metadata": {},
     "output_type": "execute_result"
    }
   ],
   "source": [
    "# find the mode of the budget.\n",
    "df.budget_adj.median()"
   ]
  },
  {
   "cell_type": "markdown",
   "metadata": {},
   "source": [
    " From the three output above, our median and mode are zero are not sufficient reasons why we should use it. because it is not possible for a movie that was produced not to have a budget and revenue. My best bet is to calculate the mean of the revenues and budget. Use these values to replace the ones with zero and calculate the profit."
   ]
  },
  {
   "cell_type": "code",
   "execution_count": 18,
   "metadata": {},
   "outputs": [],
   "source": [
    "def missing_filler(x):\n",
    "    x.mean()\n",
    "    x_new = pd.DataFrame(x).replace(0,x.mean()).values\n",
    "    x = x_new\n",
    "    return x"
   ]
  },
  {
   "cell_type": "markdown",
   "metadata": {},
   "source": [
    "here we defined a function that calculates the mean and replace the zeros with the calculated mean."
   ]
  },
  {
   "cell_type": "code",
   "execution_count": 19,
   "metadata": {},
   "outputs": [],
   "source": [
    "df['revenue_adj'] = missing_filler(df['revenue_adj'])"
   ]
  },
  {
   "cell_type": "markdown",
   "metadata": {},
   "source": [
    "here we implement our function we defined earlier to calculate and fill the missing values, in this case the records with zero, with the mean value. "
   ]
  },
  {
   "cell_type": "code",
   "execution_count": 20,
   "metadata": {},
   "outputs": [],
   "source": [
    "df['budget_adj'] = missing_filler(df['budget_adj'])"
   ]
  },
  {
   "cell_type": "markdown",
   "metadata": {},
   "source": [
    "the mean of the budget_adj is calculated and filled by calling the function."
   ]
  },
  {
   "cell_type": "code",
   "execution_count": 21,
   "metadata": {},
   "outputs": [
    {
     "data": {
      "text/html": [
       "<div>\n",
       "<style scoped>\n",
       "    .dataframe tbody tr th:only-of-type {\n",
       "        vertical-align: middle;\n",
       "    }\n",
       "\n",
       "    .dataframe tbody tr th {\n",
       "        vertical-align: top;\n",
       "    }\n",
       "\n",
       "    .dataframe thead th {\n",
       "        text-align: right;\n",
       "    }\n",
       "</style>\n",
       "<table border=\"1\" class=\"dataframe\">\n",
       "  <thead>\n",
       "    <tr style=\"text-align: right;\">\n",
       "      <th></th>\n",
       "      <th>popularity</th>\n",
       "      <th>original_title</th>\n",
       "      <th>cast</th>\n",
       "      <th>director</th>\n",
       "      <th>keywords</th>\n",
       "      <th>runtime</th>\n",
       "      <th>genres</th>\n",
       "      <th>production_companies</th>\n",
       "      <th>vote_count</th>\n",
       "      <th>vote_average</th>\n",
       "      <th>release_year</th>\n",
       "      <th>budget_adj</th>\n",
       "      <th>revenue_adj</th>\n",
       "    </tr>\n",
       "  </thead>\n",
       "  <tbody>\n",
       "    <tr>\n",
       "      <th>10861</th>\n",
       "      <td>0.080598</td>\n",
       "      <td>The Endless Summer</td>\n",
       "      <td>Michael Hynson|Robert August|Lord 'Tally Ho' B...</td>\n",
       "      <td>Bruce Brown</td>\n",
       "      <td>surfer|surfboard|surfing</td>\n",
       "      <td>95</td>\n",
       "      <td>Documentary</td>\n",
       "      <td>Bruce Brown Films</td>\n",
       "      <td>11</td>\n",
       "      <td>7.4</td>\n",
       "      <td>1966</td>\n",
       "      <td>1.755104e+07</td>\n",
       "      <td>5.136436e+07</td>\n",
       "    </tr>\n",
       "    <tr>\n",
       "      <th>10862</th>\n",
       "      <td>0.065543</td>\n",
       "      <td>Grand Prix</td>\n",
       "      <td>James Garner|Eva Marie Saint|Yves Montand|Tosh...</td>\n",
       "      <td>John Frankenheimer</td>\n",
       "      <td>car race|racing|formula 1</td>\n",
       "      <td>176</td>\n",
       "      <td>Action|Adventure|Drama</td>\n",
       "      <td>Cherokee Productions|Joel Productions|Douglas ...</td>\n",
       "      <td>20</td>\n",
       "      <td>5.7</td>\n",
       "      <td>1966</td>\n",
       "      <td>1.755104e+07</td>\n",
       "      <td>5.136436e+07</td>\n",
       "    </tr>\n",
       "    <tr>\n",
       "      <th>10863</th>\n",
       "      <td>0.065141</td>\n",
       "      <td>Beregis Avtomobilya</td>\n",
       "      <td>Innokentiy Smoktunovskiy|Oleg Efremov|Georgi Z...</td>\n",
       "      <td>Eldar Ryazanov</td>\n",
       "      <td>car|trolley|stealing car</td>\n",
       "      <td>94</td>\n",
       "      <td>Mystery|Comedy</td>\n",
       "      <td>Mosfilm</td>\n",
       "      <td>11</td>\n",
       "      <td>6.5</td>\n",
       "      <td>1966</td>\n",
       "      <td>1.755104e+07</td>\n",
       "      <td>5.136436e+07</td>\n",
       "    </tr>\n",
       "    <tr>\n",
       "      <th>10864</th>\n",
       "      <td>0.064317</td>\n",
       "      <td>What's Up, Tiger Lily?</td>\n",
       "      <td>Tatsuya Mihashi|Akiko Wakabayashi|Mie Hama|Joh...</td>\n",
       "      <td>Woody Allen</td>\n",
       "      <td>spoof</td>\n",
       "      <td>80</td>\n",
       "      <td>Action|Comedy</td>\n",
       "      <td>Benedict Pictures Corp.</td>\n",
       "      <td>22</td>\n",
       "      <td>5.4</td>\n",
       "      <td>1966</td>\n",
       "      <td>1.755104e+07</td>\n",
       "      <td>5.136436e+07</td>\n",
       "    </tr>\n",
       "    <tr>\n",
       "      <th>10865</th>\n",
       "      <td>0.035919</td>\n",
       "      <td>Manos: The Hands of Fate</td>\n",
       "      <td>Harold P. Warren|Tom Neyman|John Reynolds|Dian...</td>\n",
       "      <td>Harold P. Warren</td>\n",
       "      <td>fire|gun|drive|sacrifice|flashlight</td>\n",
       "      <td>74</td>\n",
       "      <td>Horror</td>\n",
       "      <td>Norm-Iris</td>\n",
       "      <td>15</td>\n",
       "      <td>1.5</td>\n",
       "      <td>1966</td>\n",
       "      <td>1.276423e+05</td>\n",
       "      <td>5.136436e+07</td>\n",
       "    </tr>\n",
       "  </tbody>\n",
       "</table>\n",
       "</div>"
      ],
      "text/plain": [
       "       popularity            original_title  \\\n",
       "10861    0.080598        The Endless Summer   \n",
       "10862    0.065543                Grand Prix   \n",
       "10863    0.065141       Beregis Avtomobilya   \n",
       "10864    0.064317    What's Up, Tiger Lily?   \n",
       "10865    0.035919  Manos: The Hands of Fate   \n",
       "\n",
       "                                                    cast            director  \\\n",
       "10861  Michael Hynson|Robert August|Lord 'Tally Ho' B...         Bruce Brown   \n",
       "10862  James Garner|Eva Marie Saint|Yves Montand|Tosh...  John Frankenheimer   \n",
       "10863  Innokentiy Smoktunovskiy|Oleg Efremov|Georgi Z...      Eldar Ryazanov   \n",
       "10864  Tatsuya Mihashi|Akiko Wakabayashi|Mie Hama|Joh...         Woody Allen   \n",
       "10865  Harold P. Warren|Tom Neyman|John Reynolds|Dian...    Harold P. Warren   \n",
       "\n",
       "                                  keywords  runtime                  genres  \\\n",
       "10861             surfer|surfboard|surfing       95             Documentary   \n",
       "10862            car race|racing|formula 1      176  Action|Adventure|Drama   \n",
       "10863             car|trolley|stealing car       94          Mystery|Comedy   \n",
       "10864                                spoof       80           Action|Comedy   \n",
       "10865  fire|gun|drive|sacrifice|flashlight       74                  Horror   \n",
       "\n",
       "                                    production_companies  vote_count  \\\n",
       "10861                                  Bruce Brown Films          11   \n",
       "10862  Cherokee Productions|Joel Productions|Douglas ...          20   \n",
       "10863                                            Mosfilm          11   \n",
       "10864                            Benedict Pictures Corp.          22   \n",
       "10865                                          Norm-Iris          15   \n",
       "\n",
       "       vote_average  release_year    budget_adj   revenue_adj  \n",
       "10861           7.4          1966  1.755104e+07  5.136436e+07  \n",
       "10862           5.7          1966  1.755104e+07  5.136436e+07  \n",
       "10863           6.5          1966  1.755104e+07  5.136436e+07  \n",
       "10864           5.4          1966  1.755104e+07  5.136436e+07  \n",
       "10865           1.5          1966  1.276423e+05  5.136436e+07  "
      ]
     },
     "execution_count": 21,
     "metadata": {},
     "output_type": "execute_result"
    }
   ],
   "source": [
    "df.tail()"
   ]
  },
  {
   "cell_type": "markdown",
   "metadata": {},
   "source": [
    "This was ran to inspect the tail of our data. initially, we had most of the zeros highly concerntrated at the bottom\n"
   ]
  },
  {
   "cell_type": "code",
   "execution_count": 22,
   "metadata": {
    "scrolled": true
   },
   "outputs": [
    {
     "data": {
      "text/html": [
       "<div>\n",
       "<style scoped>\n",
       "    .dataframe tbody tr th:only-of-type {\n",
       "        vertical-align: middle;\n",
       "    }\n",
       "\n",
       "    .dataframe tbody tr th {\n",
       "        vertical-align: top;\n",
       "    }\n",
       "\n",
       "    .dataframe thead th {\n",
       "        text-align: right;\n",
       "    }\n",
       "</style>\n",
       "<table border=\"1\" class=\"dataframe\">\n",
       "  <thead>\n",
       "    <tr style=\"text-align: right;\">\n",
       "      <th></th>\n",
       "      <th>popularity</th>\n",
       "      <th>original_title</th>\n",
       "      <th>cast</th>\n",
       "      <th>director</th>\n",
       "      <th>keywords</th>\n",
       "      <th>runtime</th>\n",
       "      <th>genres</th>\n",
       "      <th>production_companies</th>\n",
       "      <th>vote_count</th>\n",
       "      <th>vote_average</th>\n",
       "      <th>release_year</th>\n",
       "      <th>budget_adj</th>\n",
       "      <th>revenue_adj</th>\n",
       "      <th>profit</th>\n",
       "    </tr>\n",
       "  </thead>\n",
       "  <tbody>\n",
       "    <tr>\n",
       "      <th>0</th>\n",
       "      <td>32.985763</td>\n",
       "      <td>Jurassic World</td>\n",
       "      <td>Chris Pratt|Bryce Dallas Howard|Irrfan Khan|Vi...</td>\n",
       "      <td>Colin Trevorrow</td>\n",
       "      <td>monster|dna|tyrannosaurus rex|velociraptor|island</td>\n",
       "      <td>124</td>\n",
       "      <td>Action|Adventure|Science Fiction|Thriller</td>\n",
       "      <td>Universal Studios|Amblin Entertainment|Legenda...</td>\n",
       "      <td>5562</td>\n",
       "      <td>6.5</td>\n",
       "      <td>2015</td>\n",
       "      <td>1.379999e+08</td>\n",
       "      <td>1.392446e+09</td>\n",
       "      <td>1.254446e+09</td>\n",
       "    </tr>\n",
       "    <tr>\n",
       "      <th>1</th>\n",
       "      <td>28.419936</td>\n",
       "      <td>Mad Max: Fury Road</td>\n",
       "      <td>Tom Hardy|Charlize Theron|Hugh Keays-Byrne|Nic...</td>\n",
       "      <td>George Miller</td>\n",
       "      <td>future|chase|post-apocalyptic|dystopia|australia</td>\n",
       "      <td>120</td>\n",
       "      <td>Action|Adventure|Science Fiction|Thriller</td>\n",
       "      <td>Village Roadshow Pictures|Kennedy Miller Produ...</td>\n",
       "      <td>6185</td>\n",
       "      <td>7.1</td>\n",
       "      <td>2015</td>\n",
       "      <td>1.379999e+08</td>\n",
       "      <td>3.481613e+08</td>\n",
       "      <td>2.101614e+08</td>\n",
       "    </tr>\n",
       "    <tr>\n",
       "      <th>2</th>\n",
       "      <td>13.112507</td>\n",
       "      <td>Insurgent</td>\n",
       "      <td>Shailene Woodley|Theo James|Kate Winslet|Ansel...</td>\n",
       "      <td>Robert Schwentke</td>\n",
       "      <td>based on novel|revolution|dystopia|sequel|dyst...</td>\n",
       "      <td>119</td>\n",
       "      <td>Adventure|Science Fiction|Thriller</td>\n",
       "      <td>Summit Entertainment|Mandeville Films|Red Wago...</td>\n",
       "      <td>2480</td>\n",
       "      <td>6.3</td>\n",
       "      <td>2015</td>\n",
       "      <td>1.012000e+08</td>\n",
       "      <td>2.716190e+08</td>\n",
       "      <td>1.704191e+08</td>\n",
       "    </tr>\n",
       "  </tbody>\n",
       "</table>\n",
       "</div>"
      ],
      "text/plain": [
       "   popularity      original_title  \\\n",
       "0   32.985763      Jurassic World   \n",
       "1   28.419936  Mad Max: Fury Road   \n",
       "2   13.112507           Insurgent   \n",
       "\n",
       "                                                cast          director  \\\n",
       "0  Chris Pratt|Bryce Dallas Howard|Irrfan Khan|Vi...   Colin Trevorrow   \n",
       "1  Tom Hardy|Charlize Theron|Hugh Keays-Byrne|Nic...     George Miller   \n",
       "2  Shailene Woodley|Theo James|Kate Winslet|Ansel...  Robert Schwentke   \n",
       "\n",
       "                                            keywords  runtime  \\\n",
       "0  monster|dna|tyrannosaurus rex|velociraptor|island      124   \n",
       "1   future|chase|post-apocalyptic|dystopia|australia      120   \n",
       "2  based on novel|revolution|dystopia|sequel|dyst...      119   \n",
       "\n",
       "                                      genres  \\\n",
       "0  Action|Adventure|Science Fiction|Thriller   \n",
       "1  Action|Adventure|Science Fiction|Thriller   \n",
       "2         Adventure|Science Fiction|Thriller   \n",
       "\n",
       "                                production_companies  vote_count  \\\n",
       "0  Universal Studios|Amblin Entertainment|Legenda...        5562   \n",
       "1  Village Roadshow Pictures|Kennedy Miller Produ...        6185   \n",
       "2  Summit Entertainment|Mandeville Films|Red Wago...        2480   \n",
       "\n",
       "   vote_average  release_year    budget_adj   revenue_adj        profit  \n",
       "0           6.5          2015  1.379999e+08  1.392446e+09  1.254446e+09  \n",
       "1           7.1          2015  1.379999e+08  3.481613e+08  2.101614e+08  \n",
       "2           6.3          2015  1.012000e+08  2.716190e+08  1.704191e+08  "
      ]
     },
     "execution_count": 22,
     "metadata": {},
     "output_type": "execute_result"
    }
   ],
   "source": [
    "# now create a new column for profit\n",
    "df['profit'] = df['revenue_adj']-df['budget_adj']\n",
    "df.head(3)"
   ]
  },
  {
   "cell_type": "code",
   "execution_count": 23,
   "metadata": {},
   "outputs": [
    {
     "data": {
      "text/plain": [
       "(4, 14)"
      ]
     },
     "execution_count": 23,
     "metadata": {},
     "output_type": "execute_result"
    }
   ],
   "source": [
    "# how many records in the profit are zero.\n",
    "df.loc[df['profit'] == 0].shape"
   ]
  },
  {
   "cell_type": "code",
   "execution_count": 24,
   "metadata": {},
   "outputs": [
    {
     "data": {
      "text/plain": [
       "0    3.381332e+07\n",
       "dtype: float64"
      ]
     },
     "execution_count": 24,
     "metadata": {},
     "output_type": "execute_result"
    }
   ],
   "source": [
    "# what is the mode of the profit\n",
    "df.profit.mode()"
   ]
  },
  {
   "cell_type": "code",
   "execution_count": 25,
   "metadata": {},
   "outputs": [
    {
     "data": {
      "text/plain": [
       "33813323.430364206"
      ]
     },
     "execution_count": 25,
     "metadata": {},
     "output_type": "execute_result"
    }
   ],
   "source": [
    "# what is the median of the profit\n",
    "df.profit.median()"
   ]
  },
  {
   "cell_type": "code",
   "execution_count": 26,
   "metadata": {},
   "outputs": [
    {
     "data": {
      "text/plain": [
       "53051063.76723101"
      ]
     },
     "execution_count": 26,
     "metadata": {},
     "output_type": "execute_result"
    }
   ],
   "source": [
    "# what is the mean profit\n",
    "mean_profit = df.profit.mean()\n",
    "mean_profit"
   ]
  },
  {
   "cell_type": "markdown",
   "metadata": {},
   "source": [
    " having compared all the measures of central tendencies, i can decide to leave it like that or replace it with the mean. alternatively, since the number of zeros are just 4 out of our entire DataFrame, i can decide to drop it. but i would rather leave it there instead. that would mean that the exact same amount spent on budget was realized at the end of the day. "
   ]
  },
  {
   "cell_type": "code",
   "execution_count": 27,
   "metadata": {},
   "outputs": [
    {
     "data": {
      "text/html": [
       "<div>\n",
       "<style scoped>\n",
       "    .dataframe tbody tr th:only-of-type {\n",
       "        vertical-align: middle;\n",
       "    }\n",
       "\n",
       "    .dataframe tbody tr th {\n",
       "        vertical-align: top;\n",
       "    }\n",
       "\n",
       "    .dataframe thead th {\n",
       "        text-align: right;\n",
       "    }\n",
       "</style>\n",
       "<table border=\"1\" class=\"dataframe\">\n",
       "  <thead>\n",
       "    <tr style=\"text-align: right;\">\n",
       "      <th></th>\n",
       "      <th>popularity</th>\n",
       "      <th>original_title</th>\n",
       "      <th>cast</th>\n",
       "      <th>director</th>\n",
       "      <th>keywords</th>\n",
       "      <th>runtime</th>\n",
       "      <th>genres</th>\n",
       "      <th>production_companies</th>\n",
       "      <th>vote_count</th>\n",
       "      <th>vote_average</th>\n",
       "      <th>release_year</th>\n",
       "      <th>budget_adj</th>\n",
       "      <th>revenue_adj</th>\n",
       "      <th>profit</th>\n",
       "    </tr>\n",
       "  </thead>\n",
       "  <tbody>\n",
       "    <tr>\n",
       "      <th>9816</th>\n",
       "      <td>0.513067</td>\n",
       "      <td>Death Race 2000</td>\n",
       "      <td>David Carradine|Simone Griffeth|Sylvester Stal...</td>\n",
       "      <td>Paul Bartel</td>\n",
       "      <td>dystopia|street race|reality spoof</td>\n",
       "      <td>80</td>\n",
       "      <td>Action|Comedy|Science Fiction</td>\n",
       "      <td>New World Pictures</td>\n",
       "      <td>57</td>\n",
       "      <td>5.9</td>\n",
       "      <td>1975</td>\n",
       "      <td>1.215546e+06</td>\n",
       "      <td>5.136436e+07</td>\n",
       "      <td>5.014882e+07</td>\n",
       "    </tr>\n",
       "    <tr>\n",
       "      <th>1517</th>\n",
       "      <td>0.654405</td>\n",
       "      <td>Mary and Max</td>\n",
       "      <td>Toni Collette|Philip Seymour Hoffman|Eric Bana...</td>\n",
       "      <td>Adam Elliot</td>\n",
       "      <td>chocolate|birthmark|only child|approach|australia</td>\n",
       "      <td>92</td>\n",
       "      <td>Animation|Comedy|Drama</td>\n",
       "      <td>icon</td>\n",
       "      <td>359</td>\n",
       "      <td>7.5</td>\n",
       "      <td>2009</td>\n",
       "      <td>8.131203e+06</td>\n",
       "      <td>5.136436e+07</td>\n",
       "      <td>4.323316e+07</td>\n",
       "    </tr>\n",
       "    <tr>\n",
       "      <th>5436</th>\n",
       "      <td>3.625529</td>\n",
       "      <td>12 Years a Slave</td>\n",
       "      <td>Chiwetel Ejiofor|Michael Fassbender|Lupita Nyo...</td>\n",
       "      <td>Steve McQueen</td>\n",
       "      <td>whip|slavery|plantation|night shift|kidnapping</td>\n",
       "      <td>134</td>\n",
       "      <td>Drama|History</td>\n",
       "      <td>Plan B Entertainment|Regency Enterprises|River...</td>\n",
       "      <td>2241</td>\n",
       "      <td>7.9</td>\n",
       "      <td>2013</td>\n",
       "      <td>1.872067e+07</td>\n",
       "      <td>1.750382e+08</td>\n",
       "      <td>1.563176e+08</td>\n",
       "    </tr>\n",
       "    <tr>\n",
       "      <th>5863</th>\n",
       "      <td>0.215019</td>\n",
       "      <td>The Marine 3: Homefront</td>\n",
       "      <td>Mike Mizanin|Neal McDonough|Michael Eklund|Ash...</td>\n",
       "      <td>Scott Wiper</td>\n",
       "      <td>NaN</td>\n",
       "      <td>86</td>\n",
       "      <td>Action</td>\n",
       "      <td>WWE Studios</td>\n",
       "      <td>16</td>\n",
       "      <td>4.7</td>\n",
       "      <td>2013</td>\n",
       "      <td>1.755104e+07</td>\n",
       "      <td>5.136436e+07</td>\n",
       "      <td>3.381332e+07</td>\n",
       "    </tr>\n",
       "    <tr>\n",
       "      <th>9049</th>\n",
       "      <td>0.555990</td>\n",
       "      <td>Twilight</td>\n",
       "      <td>Paul Newman|Susan Sarandon|Gene Hackman|Reese ...</td>\n",
       "      <td>Robert Benton</td>\n",
       "      <td>ex-cop|retired</td>\n",
       "      <td>94</td>\n",
       "      <td>Drama|Crime|Mystery|Thriller</td>\n",
       "      <td>Paramount Pictures|Scott Rudin Productions|Cin...</td>\n",
       "      <td>16</td>\n",
       "      <td>6.6</td>\n",
       "      <td>1998</td>\n",
       "      <td>1.755104e+07</td>\n",
       "      <td>5.136436e+07</td>\n",
       "      <td>3.381332e+07</td>\n",
       "    </tr>\n",
       "    <tr>\n",
       "      <th>8605</th>\n",
       "      <td>0.313033</td>\n",
       "      <td>The Mirror Has Two Faces</td>\n",
       "      <td>Barbra Streisand|Jeff Bridges|Lauren Bacall|Ge...</td>\n",
       "      <td>Barbra Streisand</td>\n",
       "      <td>sex|professor|wedding|woman director|columbia ...</td>\n",
       "      <td>126</td>\n",
       "      <td>Comedy|Drama|Romance</td>\n",
       "      <td>TriStar Pictures|Phoenix Pictures</td>\n",
       "      <td>21</td>\n",
       "      <td>6.3</td>\n",
       "      <td>1996</td>\n",
       "      <td>5.838910e+07</td>\n",
       "      <td>5.136436e+07</td>\n",
       "      <td>-7.024740e+06</td>\n",
       "    </tr>\n",
       "    <tr>\n",
       "      <th>3840</th>\n",
       "      <td>0.129723</td>\n",
       "      <td>Conan O'Brien Can't Stop</td>\n",
       "      <td>Conan O'Brien|Andy Richter|Jimmy Vivino|Scott ...</td>\n",
       "      <td>Rodman Flender</td>\n",
       "      <td>comedian|humor|behind the scenes|independent f...</td>\n",
       "      <td>89</td>\n",
       "      <td>Comedy|Documentary|Music</td>\n",
       "      <td>NaN</td>\n",
       "      <td>25</td>\n",
       "      <td>5.7</td>\n",
       "      <td>2011</td>\n",
       "      <td>1.755104e+07</td>\n",
       "      <td>2.171054e+05</td>\n",
       "      <td>-1.733393e+07</td>\n",
       "    </tr>\n",
       "    <tr>\n",
       "      <th>8325</th>\n",
       "      <td>0.296309</td>\n",
       "      <td>Juice</td>\n",
       "      <td>Omar Epps|Tupac Shakur|Khalil Kain|Jermaine 'H...</td>\n",
       "      <td>Ernest R. Dickerson</td>\n",
       "      <td>street gang|black people|rap|hip-hop|violence</td>\n",
       "      <td>96</td>\n",
       "      <td>Action|Crime|Drama|Thriller</td>\n",
       "      <td>Paramount Pictures</td>\n",
       "      <td>55</td>\n",
       "      <td>7.1</td>\n",
       "      <td>1992</td>\n",
       "      <td>7.770121e+06</td>\n",
       "      <td>3.130874e+07</td>\n",
       "      <td>2.353862e+07</td>\n",
       "    </tr>\n",
       "  </tbody>\n",
       "</table>\n",
       "</div>"
      ],
      "text/plain": [
       "      popularity            original_title  \\\n",
       "9816    0.513067           Death Race 2000   \n",
       "1517    0.654405              Mary and Max   \n",
       "5436    3.625529          12 Years a Slave   \n",
       "5863    0.215019   The Marine 3: Homefront   \n",
       "9049    0.555990                  Twilight   \n",
       "8605    0.313033  The Mirror Has Two Faces   \n",
       "3840    0.129723  Conan O'Brien Can't Stop   \n",
       "8325    0.296309                     Juice   \n",
       "\n",
       "                                                   cast             director  \\\n",
       "9816  David Carradine|Simone Griffeth|Sylvester Stal...          Paul Bartel   \n",
       "1517  Toni Collette|Philip Seymour Hoffman|Eric Bana...          Adam Elliot   \n",
       "5436  Chiwetel Ejiofor|Michael Fassbender|Lupita Nyo...        Steve McQueen   \n",
       "5863  Mike Mizanin|Neal McDonough|Michael Eklund|Ash...          Scott Wiper   \n",
       "9049  Paul Newman|Susan Sarandon|Gene Hackman|Reese ...        Robert Benton   \n",
       "8605  Barbra Streisand|Jeff Bridges|Lauren Bacall|Ge...     Barbra Streisand   \n",
       "3840  Conan O'Brien|Andy Richter|Jimmy Vivino|Scott ...       Rodman Flender   \n",
       "8325  Omar Epps|Tupac Shakur|Khalil Kain|Jermaine 'H...  Ernest R. Dickerson   \n",
       "\n",
       "                                               keywords  runtime  \\\n",
       "9816                 dystopia|street race|reality spoof       80   \n",
       "1517  chocolate|birthmark|only child|approach|australia       92   \n",
       "5436     whip|slavery|plantation|night shift|kidnapping      134   \n",
       "5863                                                NaN       86   \n",
       "9049                                     ex-cop|retired       94   \n",
       "8605  sex|professor|wedding|woman director|columbia ...      126   \n",
       "3840  comedian|humor|behind the scenes|independent f...       89   \n",
       "8325      street gang|black people|rap|hip-hop|violence       96   \n",
       "\n",
       "                             genres  \\\n",
       "9816  Action|Comedy|Science Fiction   \n",
       "1517         Animation|Comedy|Drama   \n",
       "5436                  Drama|History   \n",
       "5863                         Action   \n",
       "9049   Drama|Crime|Mystery|Thriller   \n",
       "8605           Comedy|Drama|Romance   \n",
       "3840       Comedy|Documentary|Music   \n",
       "8325    Action|Crime|Drama|Thriller   \n",
       "\n",
       "                                   production_companies  vote_count  \\\n",
       "9816                                 New World Pictures          57   \n",
       "1517                                               icon         359   \n",
       "5436  Plan B Entertainment|Regency Enterprises|River...        2241   \n",
       "5863                                        WWE Studios          16   \n",
       "9049  Paramount Pictures|Scott Rudin Productions|Cin...          16   \n",
       "8605                  TriStar Pictures|Phoenix Pictures          21   \n",
       "3840                                                NaN          25   \n",
       "8325                                 Paramount Pictures          55   \n",
       "\n",
       "      vote_average  release_year    budget_adj   revenue_adj        profit  \n",
       "9816           5.9          1975  1.215546e+06  5.136436e+07  5.014882e+07  \n",
       "1517           7.5          2009  8.131203e+06  5.136436e+07  4.323316e+07  \n",
       "5436           7.9          2013  1.872067e+07  1.750382e+08  1.563176e+08  \n",
       "5863           4.7          2013  1.755104e+07  5.136436e+07  3.381332e+07  \n",
       "9049           6.6          1998  1.755104e+07  5.136436e+07  3.381332e+07  \n",
       "8605           6.3          1996  5.838910e+07  5.136436e+07 -7.024740e+06  \n",
       "3840           5.7          2011  1.755104e+07  2.171054e+05 -1.733393e+07  \n",
       "8325           7.1          1992  7.770121e+06  3.130874e+07  2.353862e+07  "
      ]
     },
     "execution_count": 27,
     "metadata": {},
     "output_type": "execute_result"
    }
   ],
   "source": [
    "df.sample(8)"
   ]
  },
  {
   "cell_type": "code",
   "execution_count": 28,
   "metadata": {},
   "outputs": [
    {
     "name": "stdout",
     "output_type": "stream",
     "text": [
      "<class 'pandas.core.frame.DataFrame'>\n",
      "RangeIndex: 10866 entries, 0 to 10865\n",
      "Data columns (total 14 columns):\n",
      "popularity              10866 non-null float64\n",
      "original_title          10866 non-null object\n",
      "cast                    10790 non-null object\n",
      "director                10822 non-null object\n",
      "keywords                9373 non-null object\n",
      "runtime                 10866 non-null int64\n",
      "genres                  10843 non-null object\n",
      "production_companies    9836 non-null object\n",
      "vote_count              10866 non-null int64\n",
      "vote_average            10866 non-null float64\n",
      "release_year            10866 non-null int64\n",
      "budget_adj              10866 non-null float64\n",
      "revenue_adj             10866 non-null float64\n",
      "profit                  10866 non-null float64\n",
      "dtypes: float64(5), int64(3), object(6)\n",
      "memory usage: 1.2+ MB\n"
     ]
    }
   ],
   "source": [
    "df.info()"
   ]
  },
  {
   "cell_type": "code",
   "execution_count": 29,
   "metadata": {},
   "outputs": [
    {
     "data": {
      "text/plain": [
       "1030"
      ]
     },
     "execution_count": 29,
     "metadata": {},
     "output_type": "execute_result"
    }
   ],
   "source": [
    "# how many null values do we have in the companies field?\n",
    "df.production_companies.isnull().sum()"
   ]
  },
  {
   "cell_type": "code",
   "execution_count": 30,
   "metadata": {},
   "outputs": [
    {
     "data": {
      "text/plain": [
       "0    Paramount Pictures\n",
       "dtype: object"
      ]
     },
     "execution_count": 30,
     "metadata": {},
     "output_type": "execute_result"
    }
   ],
   "source": [
    "# what is the mode of the companies?\n",
    "mode_companies = df.production_companies.mode()\n",
    "mode_companies"
   ]
  },
  {
   "cell_type": "markdown",
   "metadata": {},
   "source": [
    "Since i have so 1030 missing values in the production_companies field, i have to deal with it.so i will replace the entries in that field with the mode or drop it. I have decided to drop it instead"
   ]
  },
  {
   "cell_type": "code",
   "execution_count": 31,
   "metadata": {},
   "outputs": [],
   "source": [
    "# drop missing values in the production_companies field\n",
    "df.production_companies.dropna(inplace=True)"
   ]
  },
  {
   "cell_type": "code",
   "execution_count": 32,
   "metadata": {},
   "outputs": [
    {
     "data": {
      "text/plain": [
       "False    9836\n",
       "Name: production_companies, dtype: int64"
      ]
     },
     "execution_count": 32,
     "metadata": {},
     "output_type": "execute_result"
    }
   ],
   "source": [
    "# check if there's still missing value in this field.\n",
    "df.production_companies.isnull().value_counts()"
   ]
  },
  {
   "cell_type": "code",
   "execution_count": 33,
   "metadata": {},
   "outputs": [
    {
     "data": {
      "text/plain": [
       "Paramount Pictures      156\n",
       "Universal Pictures      133\n",
       "Warner Bros.             84\n",
       "Walt Disney Pictures     76\n",
       "Columbia Pictures        72\n",
       "Name: production_companies, dtype: int64"
      ]
     },
     "execution_count": 33,
     "metadata": {},
     "output_type": "execute_result"
    }
   ],
   "source": [
    "df.production_companies.value_counts().head()"
   ]
  },
  {
   "cell_type": "markdown",
   "metadata": {},
   "source": [
    "<a id='eda'></a>\n",
    "## Exploratory Data Analysis\n",
    "\n",
    "> Now that our data is cleaned, we can now proceed to carry out our analysis.\n",
    "\n",
    "> We're going to try to answer the questions we asked earlier and do some visualizations to help us see a trend if there's one.\n",
    "\n",
    "\n",
    "### Research Question 1 (top 10 production companies!)"
   ]
  },
  {
   "cell_type": "code",
   "execution_count": 34,
   "metadata": {},
   "outputs": [
    {
     "data": {
      "text/plain": [
       "Paramount Pictures                        156\n",
       "Universal Pictures                        133\n",
       "Warner Bros.                               84\n",
       "Walt Disney Pictures                       76\n",
       "Columbia Pictures                          72\n",
       "Metro-Goldwyn-Mayer (MGM)                  72\n",
       "New Line Cinema                            61\n",
       "Touchstone Pictures                        51\n",
       "20th Century Fox                           50\n",
       "Twentieth Century Fox Film Corporation     49\n",
       "Name: production_companies, dtype: int64"
      ]
     },
     "execution_count": 34,
     "metadata": {},
     "output_type": "execute_result"
    }
   ],
   "source": [
    "# what are our top 10 companies that produced the highest movies \n",
    "df.production_companies.value_counts().head(10)"
   ]
  },
  {
   "cell_type": "code",
   "execution_count": 35,
   "metadata": {},
   "outputs": [
    {
     "data": {
      "text/plain": [
       "2750136650.9191761"
      ]
     },
     "execution_count": 35,
     "metadata": {},
     "output_type": "execute_result"
    }
   ],
   "source": [
    "# what is the highest profit made by a movie?\n",
    "df.profit.max()"
   ]
  },
  {
   "cell_type": "markdown",
   "metadata": {},
   "source": [
    "From the output above, we can see that the highest profit generated by a single movie is 2.7 billion dollars."
   ]
  },
  {
   "cell_type": "code",
   "execution_count": 36,
   "metadata": {},
   "outputs": [
    {
     "data": {
      "text/plain": [
       "production_companies\n",
       "Lucasfilm|Twentieth Century Fox Film Corporation                                                              2.750137e+09\n",
       "Ingenious Film Partners|Twentieth Century Fox Film Corporation|Dune Entertainment|Lightstorm Entertainment    2.586237e+09\n",
       "Paramount Pictures|Twentieth Century Fox Film Corporation|Lightstorm Entertainment                            2.234714e+09\n",
       "Warner Bros.|Hoya Productions                                                                                 2.128036e+09\n",
       "Universal Pictures|Zanuck/Brown Productions                                                                   1.878643e+09\n",
       "Universal Pictures|Amblin Entertainment                                                                       1.767968e+09\n",
       "Lucasfilm|Truenorth Productions|Bad Robot                                                                     1.718723e+09\n",
       "Columbia Pictures                                                                                             1.551568e+09\n",
       "Walt Disney Productions                                                                                       1.545635e+09\n",
       "Walt Disney Pictures                                                                                          1.319404e+09\n",
       "Name: profit, dtype: float64"
      ]
     },
     "execution_count": 36,
     "metadata": {},
     "output_type": "execute_result"
    }
   ],
   "source": [
    "# top 10 companies with the highest profit.\n",
    "df.groupby('production_companies')['profit'].agg(max).sort_values(ascending=False).head(10)"
   ]
  },
  {
   "cell_type": "markdown",
   "metadata": {},
   "source": [
    "The table above summarizes our top 10 highest profit made by different production companies. looking at the table, it is evident that the collaboration of lucas,twentieth century and fox corporation made the highest profit that we saw initially.The table also show other production companies that made the list of top 10 profit from a single movie."
   ]
  },
  {
   "cell_type": "code",
   "execution_count": 37,
   "metadata": {},
   "outputs": [
    {
     "data": {
      "text/plain": [
       "production_companies\n",
       "SMV Enterprises|Columbia Music Video|EMI                                                           8.7\n",
       "Red Bull Media House|Brain Farm Digital Cinema                                                     8.5\n",
       "Miramax Films|British Film Institute (BFI)                                                         8.5\n",
       "Edel records GmbH                                                                                  8.5\n",
       "Eficine 226|Beanca Films|Fondo de InversiÃ³n y EstÃ­mulos al Cine (FIDECINE)|MPN Cologne Film 3    8.4\n",
       "Castle Rock Entertainment                                                                          8.4\n",
       "Blumhouse Productions|Hit the Ground Running Films                                                 8.4\n",
       "Talking Heads|Arnold Stiefel Company                                                               8.4\n",
       "Paramount Pictures|Alfran Productions                                                              8.3\n",
       "Banger Films                                                                                       8.3\n",
       "Name: vote_average, dtype: float64"
      ]
     },
     "execution_count": 37,
     "metadata": {},
     "output_type": "execute_result"
    }
   ],
   "source": [
    "# top 10 companies with the highest vote_average\n",
    "\n",
    "df.groupby('production_companies')['vote_average'].agg(max).sort_values(ascending=False).head(10)"
   ]
  },
  {
   "cell_type": "markdown",
   "metadata": {},
   "source": [
    "The summary of a grouping of the companies by their vote average. The goal was to check to see if there's any form of correlation between the companies that made the highest profit and the companies with the highest average. suprisingly, comparing this plot with the previous one, we see no such correlation. We can hardly see if there's any at all, the companies in the previous table listed here."
   ]
  },
  {
   "cell_type": "code",
   "execution_count": 38,
   "metadata": {},
   "outputs": [
    {
     "data": {
      "text/html": [
       "<div>\n",
       "<style scoped>\n",
       "    .dataframe tbody tr th:only-of-type {\n",
       "        vertical-align: middle;\n",
       "    }\n",
       "\n",
       "    .dataframe tbody tr th {\n",
       "        vertical-align: top;\n",
       "    }\n",
       "\n",
       "    .dataframe thead th {\n",
       "        text-align: right;\n",
       "    }\n",
       "</style>\n",
       "<table border=\"1\" class=\"dataframe\">\n",
       "  <thead>\n",
       "    <tr style=\"text-align: right;\">\n",
       "      <th></th>\n",
       "      <th>profit</th>\n",
       "      <th>vote_average</th>\n",
       "    </tr>\n",
       "    <tr>\n",
       "      <th>director</th>\n",
       "      <th></th>\n",
       "      <th></th>\n",
       "    </tr>\n",
       "  </thead>\n",
       "  <tbody>\n",
       "    <tr>\n",
       "      <th>Steven Spielberg</th>\n",
       "      <td>1.315341e+10</td>\n",
       "      <td>197.9</td>\n",
       "    </tr>\n",
       "    <tr>\n",
       "      <th>James Cameron</th>\n",
       "      <td>6.381406e+09</td>\n",
       "      <td>68.3</td>\n",
       "    </tr>\n",
       "    <tr>\n",
       "      <th>George Lucas</th>\n",
       "      <td>5.844159e+09</td>\n",
       "      <td>40.2</td>\n",
       "    </tr>\n",
       "    <tr>\n",
       "      <th>Peter Jackson</th>\n",
       "      <td>5.746852e+09</td>\n",
       "      <td>91.0</td>\n",
       "    </tr>\n",
       "    <tr>\n",
       "      <th>Robert Zemeckis</th>\n",
       "      <td>4.412148e+09</td>\n",
       "      <td>114.0</td>\n",
       "    </tr>\n",
       "    <tr>\n",
       "      <th>Chris Columbus</th>\n",
       "      <td>4.385867e+09</td>\n",
       "      <td>89.6</td>\n",
       "    </tr>\n",
       "    <tr>\n",
       "      <th>Michael Bay</th>\n",
       "      <td>3.958676e+09</td>\n",
       "      <td>69.6</td>\n",
       "    </tr>\n",
       "    <tr>\n",
       "      <th>David Yates</th>\n",
       "      <td>3.428243e+09</td>\n",
       "      <td>35.7</td>\n",
       "    </tr>\n",
       "    <tr>\n",
       "      <th>Tim Burton</th>\n",
       "      <td>3.319451e+09</td>\n",
       "      <td>126.2</td>\n",
       "    </tr>\n",
       "    <tr>\n",
       "      <th>Christopher Nolan</th>\n",
       "      <td>3.217195e+09</td>\n",
       "      <td>74.7</td>\n",
       "    </tr>\n",
       "  </tbody>\n",
       "</table>\n",
       "</div>"
      ],
      "text/plain": [
       "                         profit  vote_average\n",
       "director                                     \n",
       "Steven Spielberg   1.315341e+10         197.9\n",
       "James Cameron      6.381406e+09          68.3\n",
       "George Lucas       5.844159e+09          40.2\n",
       "Peter Jackson      5.746852e+09          91.0\n",
       "Robert Zemeckis    4.412148e+09         114.0\n",
       "Chris Columbus     4.385867e+09          89.6\n",
       "Michael Bay        3.958676e+09          69.6\n",
       "David Yates        3.428243e+09          35.7\n",
       "Tim Burton         3.319451e+09         126.2\n",
       "Christopher Nolan  3.217195e+09          74.7"
      ]
     },
     "execution_count": 38,
     "metadata": {},
     "output_type": "execute_result"
    }
   ],
   "source": [
    "# top 10 directors with the highest total profit\n",
    "df.groupby('director')['profit','vote_average'].agg(sum).sort_values(by='profit', ascending=False).head(10)"
   ]
  },
  {
   "cell_type": "markdown",
   "metadata": {},
   "source": [
    "Steven Spielberg has generated more revenues compare to other directors. another question to ask is, how many directors are captured in the the data and how many movies did each make."
   ]
  },
  {
   "cell_type": "code",
   "execution_count": 39,
   "metadata": {},
   "outputs": [
    {
     "data": {
      "text/plain": [
       "Woody Allen          45\n",
       "Clint Eastwood       34\n",
       "Martin Scorsese      29\n",
       "Steven Spielberg     29\n",
       "Ridley Scott         23\n",
       "Ron Howard           22\n",
       "Steven Soderbergh    22\n",
       "Joel Schumacher      21\n",
       "Brian De Palma       20\n",
       "Barry Levinson       19\n",
       "Name: director, dtype: int64"
      ]
     },
     "execution_count": 39,
     "metadata": {},
     "output_type": "execute_result"
    }
   ],
   "source": [
    "# this cell counts the number of directors we have and how many movies they directed. the output is for the top 10.\n",
    "df.director.value_counts().head(10)"
   ]
  },
  {
   "cell_type": "markdown",
   "metadata": {},
   "source": [
    "It is suprising to see that Steven Spielberg is the 4th person on the list and yet he has generated more revenues than the people that have directed more movies than him.\n",
    "\n",
    "It is also shocking that there seems not to be a correlation between the number of movies directed and the total profit realized. With the exception of Steven Spielberg, no other director present in the top 10 list of highest profit is also present is the top 10 total number of movies they directed."
   ]
  },
  {
   "cell_type": "code",
   "execution_count": 40,
   "metadata": {
    "scrolled": true
   },
   "outputs": [
    {
     "data": {
      "text/plain": [
       "production_companies\n",
       "Paramount Pictures                                  1.252213e+10\n",
       "Universal Pictures                                  7.311024e+09\n",
       "Walt Disney Pictures|Pixar Animation Studios        6.463452e+09\n",
       "Lucasfilm|Twentieth Century Fox Film Corporation    5.310129e+09\n",
       "Columbia Pictures                                   5.129938e+09\n",
       "DreamWorks Animation                                5.120201e+09\n",
       "Walt Disney Pictures                                4.928936e+09\n",
       "Marvel Studios                                      4.755325e+09\n",
       "Warner Bros.                                        4.431885e+09\n",
       "Universal Pictures|Amblin Entertainment             4.211655e+09\n",
       "Name: profit, dtype: float64"
      ]
     },
     "execution_count": 40,
     "metadata": {},
     "output_type": "execute_result"
    }
   ],
   "source": [
    "df.groupby('production_companies')['profit'].agg(sum).sort_values(ascending=False).head(10)"
   ]
  },
  {
   "cell_type": "markdown",
   "metadata": {},
   "source": [
    "The table summarizes the top 10 highest total profits made by the production companies."
   ]
  },
  {
   "cell_type": "code",
   "execution_count": 41,
   "metadata": {},
   "outputs": [
    {
     "data": {
      "text/plain": [
       "<matplotlib.axes._subplots.AxesSubplot at 0x7fc3848232b0>"
      ]
     },
     "execution_count": 41,
     "metadata": {},
     "output_type": "execute_result"
    },
    {
     "data": {
      "image/png": "[encoded data removed]",
      "text/plain": [
       "<matplotlib.figure.Figure at 0x7fc3848438d0>"
      ]
     },
     "metadata": {
      "needs_background": "light"
     },
     "output_type": "display_data"
    }
   ],
   "source": [
    "df.groupby('production_companies')['profit'].agg(sum).sort_values(ascending=False).head(10).plot(kind='barh',fig=(15,15))"
   ]
  },
  {
   "cell_type": "markdown",
   "metadata": {},
   "source": [
    "The visualization above shows the top 10 highest producing companies ranked by the total profit. "
   ]
  },
  {
   "cell_type": "code",
   "execution_count": 42,
   "metadata": {},
   "outputs": [
    {
     "data": {
      "text/html": [
       "<div>\n",
       "<style scoped>\n",
       "    .dataframe tbody tr th:only-of-type {\n",
       "        vertical-align: middle;\n",
       "    }\n",
       "\n",
       "    .dataframe tbody tr th {\n",
       "        vertical-align: top;\n",
       "    }\n",
       "\n",
       "    .dataframe thead th {\n",
       "        text-align: right;\n",
       "    }\n",
       "</style>\n",
       "<table border=\"1\" class=\"dataframe\">\n",
       "  <thead>\n",
       "    <tr style=\"text-align: right;\">\n",
       "      <th></th>\n",
       "      <th>profit</th>\n",
       "      <th>vote_average</th>\n",
       "    </tr>\n",
       "    <tr>\n",
       "      <th>production_companies</th>\n",
       "      <th></th>\n",
       "      <th></th>\n",
       "    </tr>\n",
       "  </thead>\n",
       "  <tbody>\n",
       "    <tr>\n",
       "      <th>Paramount Pictures</th>\n",
       "      <td>1.252213e+10</td>\n",
       "      <td>963.7</td>\n",
       "    </tr>\n",
       "    <tr>\n",
       "      <th>Universal Pictures</th>\n",
       "      <td>7.311024e+09</td>\n",
       "      <td>793.7</td>\n",
       "    </tr>\n",
       "    <tr>\n",
       "      <th>Walt Disney Pictures|Pixar Animation Studios</th>\n",
       "      <td>6.463452e+09</td>\n",
       "      <td>120.1</td>\n",
       "    </tr>\n",
       "    <tr>\n",
       "      <th>Lucasfilm|Twentieth Century Fox Film Corporation</th>\n",
       "      <td>5.310129e+09</td>\n",
       "      <td>23.7</td>\n",
       "    </tr>\n",
       "    <tr>\n",
       "      <th>Columbia Pictures</th>\n",
       "      <td>5.129938e+09</td>\n",
       "      <td>438.9</td>\n",
       "    </tr>\n",
       "    <tr>\n",
       "      <th>DreamWorks Animation</th>\n",
       "      <td>5.120201e+09</td>\n",
       "      <td>196.3</td>\n",
       "    </tr>\n",
       "    <tr>\n",
       "      <th>Walt Disney Pictures</th>\n",
       "      <td>4.928936e+09</td>\n",
       "      <td>450.0</td>\n",
       "    </tr>\n",
       "    <tr>\n",
       "      <th>Marvel Studios</th>\n",
       "      <td>4.755325e+09</td>\n",
       "      <td>146.9</td>\n",
       "    </tr>\n",
       "    <tr>\n",
       "      <th>Warner Bros.</th>\n",
       "      <td>4.431885e+09</td>\n",
       "      <td>506.6</td>\n",
       "    </tr>\n",
       "    <tr>\n",
       "      <th>Universal Pictures|Amblin Entertainment</th>\n",
       "      <td>4.211655e+09</td>\n",
       "      <td>75.4</td>\n",
       "    </tr>\n",
       "  </tbody>\n",
       "</table>\n",
       "</div>"
      ],
      "text/plain": [
       "                                                        profit  vote_average\n",
       "production_companies                                                        \n",
       "Paramount Pictures                                1.252213e+10         963.7\n",
       "Universal Pictures                                7.311024e+09         793.7\n",
       "Walt Disney Pictures|Pixar Animation Studios      6.463452e+09         120.1\n",
       "Lucasfilm|Twentieth Century Fox Film Corporation  5.310129e+09          23.7\n",
       "Columbia Pictures                                 5.129938e+09         438.9\n",
       "DreamWorks Animation                              5.120201e+09         196.3\n",
       "Walt Disney Pictures                              4.928936e+09         450.0\n",
       "Marvel Studios                                    4.755325e+09         146.9\n",
       "Warner Bros.                                      4.431885e+09         506.6\n",
       "Universal Pictures|Amblin Entertainment           4.211655e+09          75.4"
      ]
     },
     "execution_count": 42,
     "metadata": {},
     "output_type": "execute_result"
    }
   ],
   "source": [
    "df.groupby('production_companies')['profit','vote_average'].agg(sum).sort_values(by='profit',ascending=False).head(10)"
   ]
  },
  {
   "cell_type": "code",
   "execution_count": 43,
   "metadata": {},
   "outputs": [
    {
     "data": {
      "text/html": [
       "<div>\n",
       "<style scoped>\n",
       "    .dataframe tbody tr th:only-of-type {\n",
       "        vertical-align: middle;\n",
       "    }\n",
       "\n",
       "    .dataframe tbody tr th {\n",
       "        vertical-align: top;\n",
       "    }\n",
       "\n",
       "    .dataframe thead th {\n",
       "        text-align: right;\n",
       "    }\n",
       "</style>\n",
       "<table border=\"1\" class=\"dataframe\">\n",
       "  <thead>\n",
       "    <tr style=\"text-align: right;\">\n",
       "      <th></th>\n",
       "      <th>production_companies</th>\n",
       "      <th>director</th>\n",
       "      <th>profit</th>\n",
       "    </tr>\n",
       "  </thead>\n",
       "  <tbody>\n",
       "    <tr>\n",
       "      <th>33</th>\n",
       "      <td>DreamWorks SKG|Amblin Entertainment|Studio Bab...</td>\n",
       "      <td>Steven Spielberg</td>\n",
       "      <td>1.128016e+08</td>\n",
       "    </tr>\n",
       "    <tr>\n",
       "      <th>1334</th>\n",
       "      <td>Columbia Pictures Corporation|EMI Films|Julia ...</td>\n",
       "      <td>Steven Spielberg</td>\n",
       "      <td>1.021009e+09</td>\n",
       "    </tr>\n",
       "    <tr>\n",
       "      <th>2638</th>\n",
       "      <td>DreamWorks SKG|Amblin Entertainment|Stanley Ku...</td>\n",
       "      <td>Steven Spielberg</td>\n",
       "      <td>1.673919e+08</td>\n",
       "    </tr>\n",
       "    <tr>\n",
       "      <th>2879</th>\n",
       "      <td>Lucasfilm|Paramount Pictures</td>\n",
       "      <td>Steven Spielberg</td>\n",
       "      <td>6.093289e+08</td>\n",
       "    </tr>\n",
       "    <tr>\n",
       "      <th>3397</th>\n",
       "      <td>Paramount Pictures|Columbia Pictures|WingNut F...</td>\n",
       "      <td>Steven Spielberg</td>\n",
       "      <td>2.345362e+08</td>\n",
       "    </tr>\n",
       "    <tr>\n",
       "      <th>3414</th>\n",
       "      <td>DreamWorks SKG|Amblin Entertainment|Reliance E...</td>\n",
       "      <td>Steven Spielberg</td>\n",
       "      <td>1.081702e+08</td>\n",
       "    </tr>\n",
       "    <tr>\n",
       "      <th>3918</th>\n",
       "      <td>DreamWorks SKG|Kemp Company|Splendid Pictures</td>\n",
       "      <td>Steven Spielberg</td>\n",
       "      <td>3.638170e+08</td>\n",
       "    </tr>\n",
       "    <tr>\n",
       "      <th>3921</th>\n",
       "      <td>DreamWorks SKG|Cruise/Wagner Productions|Ambli...</td>\n",
       "      <td>Steven Spielberg</td>\n",
       "      <td>3.107910e+08</td>\n",
       "    </tr>\n",
       "    <tr>\n",
       "      <th>4425</th>\n",
       "      <td>DreamWorks|Amblin Entertainment|Twentieth Cent...</td>\n",
       "      <td>Steven Spielberg</td>\n",
       "      <td>1.997250e+08</td>\n",
       "    </tr>\n",
       "    <tr>\n",
       "      <th>5387</th>\n",
       "      <td>DreamWorks</td>\n",
       "      <td>Steven Spielberg</td>\n",
       "      <td>5.162149e+07</td>\n",
       "    </tr>\n",
       "    <tr>\n",
       "      <th>5391</th>\n",
       "      <td>Universal Pictures|Amblin Entertainment</td>\n",
       "      <td>Steven Spielberg</td>\n",
       "      <td>2.120210e+08</td>\n",
       "    </tr>\n",
       "    <tr>\n",
       "      <th>6094</th>\n",
       "      <td>Amblin Entertainment|The Guber-Peters Company|...</td>\n",
       "      <td>Steven Spielberg</td>\n",
       "      <td>2.661507e+08</td>\n",
       "    </tr>\n",
       "    <tr>\n",
       "      <th>6205</th>\n",
       "      <td>Paramount Pictures|DreamWorks SKG|Cruise/Wagne...</td>\n",
       "      <td>Steven Spielberg</td>\n",
       "      <td>5.133281e+08</td>\n",
       "    </tr>\n",
       "    <tr>\n",
       "      <th>6265</th>\n",
       "      <td>DreamWorks SKG|Universal Pictures|Amblin Enter...</td>\n",
       "      <td>Steven Spielberg</td>\n",
       "      <td>6.739454e+07</td>\n",
       "    </tr>\n",
       "    <tr>\n",
       "      <th>6988</th>\n",
       "      <td>DreamWorks SKG|Amblin Entertainment|Parkes/Mac...</td>\n",
       "      <td>Steven Spielberg</td>\n",
       "      <td>1.840385e+08</td>\n",
       "    </tr>\n",
       "    <tr>\n",
       "      <th>7851</th>\n",
       "      <td>Columbia Pictures|Universal Pictures|A-Team</td>\n",
       "      <td>Steven Spielberg</td>\n",
       "      <td>-9.747548e+06</td>\n",
       "    </tr>\n",
       "    <tr>\n",
       "      <th>7883</th>\n",
       "      <td>Lucasfilm|Paramount Pictures</td>\n",
       "      <td>Steven Spielberg</td>\n",
       "      <td>6.402078e+08</td>\n",
       "    </tr>\n",
       "    <tr>\n",
       "      <th>8375</th>\n",
       "      <td>Lucasfilm|Paramount Pictures</td>\n",
       "      <td>Steven Spielberg</td>\n",
       "      <td>8.919494e+08</td>\n",
       "    </tr>\n",
       "    <tr>\n",
       "      <th>8889</th>\n",
       "      <td>Universal Pictures|Amblin Entertainment</td>\n",
       "      <td>Steven Spielberg</td>\n",
       "      <td>1.767968e+09</td>\n",
       "    </tr>\n",
       "    <tr>\n",
       "      <th>8974</th>\n",
       "      <td>Paramount Pictures|DreamWorks SKG|Amblin Enter...</td>\n",
       "      <td>Steven Spielberg</td>\n",
       "      <td>5.509177e+08</td>\n",
       "    </tr>\n",
       "    <tr>\n",
       "      <th>9180</th>\n",
       "      <td>Lucasfilm|Paramount Pictures</td>\n",
       "      <td>Steven Spielberg</td>\n",
       "      <td>7.496298e+08</td>\n",
       "    </tr>\n",
       "    <tr>\n",
       "      <th>9219</th>\n",
       "      <td>Universal Pictures|Amblin Entertainment|United...</td>\n",
       "      <td>Steven Spielberg</td>\n",
       "      <td>7.587345e+07</td>\n",
       "    </tr>\n",
       "    <tr>\n",
       "      <th>9318</th>\n",
       "      <td>Amblin Entertainment|TriStar Pictures</td>\n",
       "      <td>Steven Spielberg</td>\n",
       "      <td>3.696200e+08</td>\n",
       "    </tr>\n",
       "    <tr>\n",
       "      <th>9636</th>\n",
       "      <td>Amblin Entertainment|Warner Bros.</td>\n",
       "      <td>Steven Spielberg</td>\n",
       "      <td>-2.156069e+07</td>\n",
       "    </tr>\n",
       "    <tr>\n",
       "      <th>9770</th>\n",
       "      <td>Universal Pictures|Zanuck/Brown Productions</td>\n",
       "      <td>Steven Spielberg</td>\n",
       "      <td>4.333838e+07</td>\n",
       "    </tr>\n",
       "    <tr>\n",
       "      <th>9806</th>\n",
       "      <td>Universal Pictures|Zanuck/Brown Productions</td>\n",
       "      <td>Steven Spielberg</td>\n",
       "      <td>1.878643e+09</td>\n",
       "    </tr>\n",
       "    <tr>\n",
       "      <th>9939</th>\n",
       "      <td>Universal TV</td>\n",
       "      <td>Steven Spielberg</td>\n",
       "      <td>4.894103e+07</td>\n",
       "    </tr>\n",
       "    <tr>\n",
       "      <th>10222</th>\n",
       "      <td>Universal Pictures|Amblin Entertainment</td>\n",
       "      <td>Steven Spielberg</td>\n",
       "      <td>4.517327e+08</td>\n",
       "    </tr>\n",
       "    <tr>\n",
       "      <th>10223</th>\n",
       "      <td>Universal Pictures|Amblin Entertainment</td>\n",
       "      <td>Steven Spielberg</td>\n",
       "      <td>1.293767e+09</td>\n",
       "    </tr>\n",
       "  </tbody>\n",
       "</table>\n",
       "</div>"
      ],
      "text/plain": [
       "                                    production_companies          director  \\\n",
       "33     DreamWorks SKG|Amblin Entertainment|Studio Bab...  Steven Spielberg   \n",
       "1334   Columbia Pictures Corporation|EMI Films|Julia ...  Steven Spielberg   \n",
       "2638   DreamWorks SKG|Amblin Entertainment|Stanley Ku...  Steven Spielberg   \n",
       "2879                        Lucasfilm|Paramount Pictures  Steven Spielberg   \n",
       "3397   Paramount Pictures|Columbia Pictures|WingNut F...  Steven Spielberg   \n",
       "3414   DreamWorks SKG|Amblin Entertainment|Reliance E...  Steven Spielberg   \n",
       "3918       DreamWorks SKG|Kemp Company|Splendid Pictures  Steven Spielberg   \n",
       "3921   DreamWorks SKG|Cruise/Wagner Productions|Ambli...  Steven Spielberg   \n",
       "4425   DreamWorks|Amblin Entertainment|Twentieth Cent...  Steven Spielberg   \n",
       "5387                                          DreamWorks  Steven Spielberg   \n",
       "5391             Universal Pictures|Amblin Entertainment  Steven Spielberg   \n",
       "6094   Amblin Entertainment|The Guber-Peters Company|...  Steven Spielberg   \n",
       "6205   Paramount Pictures|DreamWorks SKG|Cruise/Wagne...  Steven Spielberg   \n",
       "6265   DreamWorks SKG|Universal Pictures|Amblin Enter...  Steven Spielberg   \n",
       "6988   DreamWorks SKG|Amblin Entertainment|Parkes/Mac...  Steven Spielberg   \n",
       "7851         Columbia Pictures|Universal Pictures|A-Team  Steven Spielberg   \n",
       "7883                        Lucasfilm|Paramount Pictures  Steven Spielberg   \n",
       "8375                        Lucasfilm|Paramount Pictures  Steven Spielberg   \n",
       "8889             Universal Pictures|Amblin Entertainment  Steven Spielberg   \n",
       "8974   Paramount Pictures|DreamWorks SKG|Amblin Enter...  Steven Spielberg   \n",
       "9180                        Lucasfilm|Paramount Pictures  Steven Spielberg   \n",
       "9219   Universal Pictures|Amblin Entertainment|United...  Steven Spielberg   \n",
       "9318               Amblin Entertainment|TriStar Pictures  Steven Spielberg   \n",
       "9636                   Amblin Entertainment|Warner Bros.  Steven Spielberg   \n",
       "9770         Universal Pictures|Zanuck/Brown Productions  Steven Spielberg   \n",
       "9806         Universal Pictures|Zanuck/Brown Productions  Steven Spielberg   \n",
       "9939                                        Universal TV  Steven Spielberg   \n",
       "10222            Universal Pictures|Amblin Entertainment  Steven Spielberg   \n",
       "10223            Universal Pictures|Amblin Entertainment  Steven Spielberg   \n",
       "\n",
       "             profit  \n",
       "33     1.128016e+08  \n",
       "1334   1.021009e+09  \n",
       "2638   1.673919e+08  \n",
       "2879   6.093289e+08  \n",
       "3397   2.345362e+08  \n",
       "3414   1.081702e+08  \n",
       "3918   3.638170e+08  \n",
       "3921   3.107910e+08  \n",
       "4425   1.997250e+08  \n",
       "5387   5.162149e+07  \n",
       "5391   2.120210e+08  \n",
       "6094   2.661507e+08  \n",
       "6205   5.133281e+08  \n",
       "6265   6.739454e+07  \n",
       "6988   1.840385e+08  \n",
       "7851  -9.747548e+06  \n",
       "7883   6.402078e+08  \n",
       "8375   8.919494e+08  \n",
       "8889   1.767968e+09  \n",
       "8974   5.509177e+08  \n",
       "9180   7.496298e+08  \n",
       "9219   7.587345e+07  \n",
       "9318   3.696200e+08  \n",
       "9636  -2.156069e+07  \n",
       "9770   4.333838e+07  \n",
       "9806   1.878643e+09  \n",
       "9939   4.894103e+07  \n",
       "10222  4.517327e+08  \n",
       "10223  1.293767e+09  "
      ]
     },
     "execution_count": 43,
     "metadata": {},
     "output_type": "execute_result"
    }
   ],
   "source": [
    "# companies Spielberg has worked for.\n",
    "df.loc[df['director']=='Steven Spielberg',['production_companies','director','profit']]"
   ]
  },
  {
   "cell_type": "code",
   "execution_count": 44,
   "metadata": {},
   "outputs": [
    {
     "data": {
      "text/plain": [
       "popularity              10\n",
       "original_title          10\n",
       "cast                    10\n",
       "director                10\n",
       "keywords                 8\n",
       "runtime                 10\n",
       "genres                   9\n",
       "production_companies     9\n",
       "vote_count              10\n",
       "vote_average            10\n",
       "release_year            10\n",
       "budget_adj              10\n",
       "revenue_adj             10\n",
       "profit                  10\n",
       "dtype: int64"
      ]
     },
     "execution_count": 44,
     "metadata": {},
     "output_type": "execute_result"
    }
   ],
   "source": [
    "# James Cameron stats.\n",
    "df.loc[df['director']=='James Cameron'].count()"
   ]
  },
  {
   "cell_type": "markdown",
   "metadata": {},
   "source": [
    "### Research Question 2  (Genres)"
   ]
  },
  {
   "cell_type": "markdown",
   "metadata": {},
   "source": [
    "Here we're going to ask questions about the genres and profits\n"
   ]
  },
  {
   "cell_type": "code",
   "execution_count": 45,
   "metadata": {},
   "outputs": [
    {
     "data": {
      "text/plain": [
       "Text(0.5,1,'A pie chart to show our top 5 popular genres')"
      ]
     },
     "execution_count": 45,
     "metadata": {},
     "output_type": "execute_result"
    },
    {
     "data": {
      "image/png": "[encoded data removed]",
      "text/plain": [
       "<matplotlib.figure.Figure at 0x7fc3847c0550>"
      ]
     },
     "metadata": {},
     "output_type": "display_data"
    }
   ],
   "source": [
    "df_4 = df.genres.value_counts().head(5)\n",
    "my_label = ['Comedy','Drama','Documentary','Drama|Romance','Comedy|Drama']\n",
    "plt.pie(df_4, labels=my_label)\n",
    "plt.title('A pie chart to show our top 5 popular genres')"
   ]
  },
  {
   "cell_type": "code",
   "execution_count": 46,
   "metadata": {},
   "outputs": [
    {
     "data": {
      "text/html": [
       "<div>\n",
       "<style scoped>\n",
       "    .dataframe tbody tr th:only-of-type {\n",
       "        vertical-align: middle;\n",
       "    }\n",
       "\n",
       "    .dataframe tbody tr th {\n",
       "        vertical-align: top;\n",
       "    }\n",
       "\n",
       "    .dataframe thead th {\n",
       "        text-align: right;\n",
       "    }\n",
       "</style>\n",
       "<table border=\"1\" class=\"dataframe\">\n",
       "  <thead>\n",
       "    <tr style=\"text-align: right;\">\n",
       "      <th></th>\n",
       "      <th>runtime</th>\n",
       "      <th>profit</th>\n",
       "    </tr>\n",
       "    <tr>\n",
       "      <th>genres</th>\n",
       "      <th></th>\n",
       "      <th></th>\n",
       "    </tr>\n",
       "  </thead>\n",
       "  <tbody>\n",
       "    <tr>\n",
       "      <th>Comedy</th>\n",
       "      <td>66346</td>\n",
       "      <td>3.090342e+10</td>\n",
       "    </tr>\n",
       "    <tr>\n",
       "      <th>Drama</th>\n",
       "      <td>79537</td>\n",
       "      <td>2.640500e+10</td>\n",
       "    </tr>\n",
       "    <tr>\n",
       "      <th>Comedy|Romance</th>\n",
       "      <td>26918</td>\n",
       "      <td>1.443584e+10</td>\n",
       "    </tr>\n",
       "    <tr>\n",
       "      <th>Comedy|Drama|Romance</th>\n",
       "      <td>23227</td>\n",
       "      <td>1.067138e+10</td>\n",
       "    </tr>\n",
       "    <tr>\n",
       "      <th>Drama|Romance</th>\n",
       "      <td>32671</td>\n",
       "      <td>1.050766e+10</td>\n",
       "    </tr>\n",
       "    <tr>\n",
       "      <th>Horror|Thriller</th>\n",
       "      <td>24054</td>\n",
       "      <td>1.014573e+10</td>\n",
       "    </tr>\n",
       "    <tr>\n",
       "      <th>Horror</th>\n",
       "      <td>22550</td>\n",
       "      <td>1.001261e+10</td>\n",
       "    </tr>\n",
       "    <tr>\n",
       "      <th>Comedy|Drama</th>\n",
       "      <td>28727</td>\n",
       "      <td>9.217386e+09</td>\n",
       "    </tr>\n",
       "    <tr>\n",
       "      <th>Adventure|Action|Thriller</th>\n",
       "      <td>3097</td>\n",
       "      <td>9.189741e+09</td>\n",
       "    </tr>\n",
       "    <tr>\n",
       "      <th>Documentary</th>\n",
       "      <td>32628</td>\n",
       "      <td>8.690685e+09</td>\n",
       "    </tr>\n",
       "  </tbody>\n",
       "</table>\n",
       "</div>"
      ],
      "text/plain": [
       "                           runtime        profit\n",
       "genres                                          \n",
       "Comedy                       66346  3.090342e+10\n",
       "Drama                        79537  2.640500e+10\n",
       "Comedy|Romance               26918  1.443584e+10\n",
       "Comedy|Drama|Romance         23227  1.067138e+10\n",
       "Drama|Romance                32671  1.050766e+10\n",
       "Horror|Thriller              24054  1.014573e+10\n",
       "Horror                       22550  1.001261e+10\n",
       "Comedy|Drama                 28727  9.217386e+09\n",
       "Adventure|Action|Thriller     3097  9.189741e+09\n",
       "Documentary                  32628  8.690685e+09"
      ]
     },
     "execution_count": 46,
     "metadata": {},
     "output_type": "execute_result"
    }
   ],
   "source": [
    "# for each genre, what is the total time and profit?\n",
    "df.groupby('genres')['runtime','profit'].agg(sum).sort_values(ascending=False,by='profit').head(10)"
   ]
  },
  {
   "cell_type": "code",
   "execution_count": 47,
   "metadata": {},
   "outputs": [
    {
     "data": {
      "text/html": [
       "<div>\n",
       "<style scoped>\n",
       "    .dataframe tbody tr th:only-of-type {\n",
       "        vertical-align: middle;\n",
       "    }\n",
       "\n",
       "    .dataframe tbody tr th {\n",
       "        vertical-align: top;\n",
       "    }\n",
       "\n",
       "    .dataframe thead th {\n",
       "        text-align: right;\n",
       "    }\n",
       "</style>\n",
       "<table border=\"1\" class=\"dataframe\">\n",
       "  <thead>\n",
       "    <tr style=\"text-align: right;\">\n",
       "      <th></th>\n",
       "      <th>runtime</th>\n",
       "      <th>profit</th>\n",
       "    </tr>\n",
       "    <tr>\n",
       "      <th>genres</th>\n",
       "      <th></th>\n",
       "      <th></th>\n",
       "    </tr>\n",
       "  </thead>\n",
       "  <tbody>\n",
       "    <tr>\n",
       "      <th>Adventure|Action|Science Fiction</th>\n",
       "      <td>142</td>\n",
       "      <td>2.750137e+09</td>\n",
       "    </tr>\n",
       "    <tr>\n",
       "      <th>Action|Adventure|Fantasy|Science Fiction</th>\n",
       "      <td>292</td>\n",
       "      <td>2.586237e+09</td>\n",
       "    </tr>\n",
       "    <tr>\n",
       "      <th>Drama|Romance|Thriller</th>\n",
       "      <td>194</td>\n",
       "      <td>2.234714e+09</td>\n",
       "    </tr>\n",
       "    <tr>\n",
       "      <th>Drama|Horror|Thriller</th>\n",
       "      <td>254</td>\n",
       "      <td>2.128036e+09</td>\n",
       "    </tr>\n",
       "    <tr>\n",
       "      <th>Horror|Thriller|Adventure</th>\n",
       "      <td>124</td>\n",
       "      <td>1.878643e+09</td>\n",
       "    </tr>\n",
       "    <tr>\n",
       "      <th>Science Fiction|Adventure|Family|Fantasy</th>\n",
       "      <td>115</td>\n",
       "      <td>1.767968e+09</td>\n",
       "    </tr>\n",
       "    <tr>\n",
       "      <th>Action|Adventure|Science Fiction|Fantasy</th>\n",
       "      <td>136</td>\n",
       "      <td>1.718723e+09</td>\n",
       "    </tr>\n",
       "    <tr>\n",
       "      <th>Crime|Drama|Mystery|Thriller|Action</th>\n",
       "      <td>114</td>\n",
       "      <td>1.551568e+09</td>\n",
       "    </tr>\n",
       "    <tr>\n",
       "      <th>Adventure|Animation|Comedy|Family</th>\n",
       "      <td>92</td>\n",
       "      <td>1.545635e+09</td>\n",
       "    </tr>\n",
       "    <tr>\n",
       "      <th>Family|Animation|Adventure</th>\n",
       "      <td>86</td>\n",
       "      <td>1.319404e+09</td>\n",
       "    </tr>\n",
       "  </tbody>\n",
       "</table>\n",
       "</div>"
      ],
      "text/plain": [
       "                                          runtime        profit\n",
       "genres                                                         \n",
       "Adventure|Action|Science Fiction              142  2.750137e+09\n",
       "Action|Adventure|Fantasy|Science Fiction      292  2.586237e+09\n",
       "Drama|Romance|Thriller                        194  2.234714e+09\n",
       "Drama|Horror|Thriller                         254  2.128036e+09\n",
       "Horror|Thriller|Adventure                     124  1.878643e+09\n",
       "Science Fiction|Adventure|Family|Fantasy      115  1.767968e+09\n",
       "Action|Adventure|Science Fiction|Fantasy      136  1.718723e+09\n",
       "Crime|Drama|Mystery|Thriller|Action           114  1.551568e+09\n",
       "Adventure|Animation|Comedy|Family              92  1.545635e+09\n",
       "Family|Animation|Adventure                     86  1.319404e+09"
      ]
     },
     "execution_count": 47,
     "metadata": {},
     "output_type": "execute_result"
    }
   ],
   "source": [
    "# i could ask which genre had the highest  profit?\n",
    "df.groupby('genres')['runtime','profit'].agg(max).sort_values(by='profit',ascending=False).head(10)"
   ]
  },
  {
   "cell_type": "code",
   "execution_count": 48,
   "metadata": {
    "scrolled": false
   },
   "outputs": [
    {
     "data": {
      "text/html": [
       "<div>\n",
       "<style scoped>\n",
       "    .dataframe tbody tr th:only-of-type {\n",
       "        vertical-align: middle;\n",
       "    }\n",
       "\n",
       "    .dataframe tbody tr th {\n",
       "        vertical-align: top;\n",
       "    }\n",
       "\n",
       "    .dataframe thead th {\n",
       "        text-align: right;\n",
       "    }\n",
       "</style>\n",
       "<table border=\"1\" class=\"dataframe\">\n",
       "  <thead>\n",
       "    <tr style=\"text-align: right;\">\n",
       "      <th></th>\n",
       "      <th>profit</th>\n",
       "      <th>runtime</th>\n",
       "    </tr>\n",
       "    <tr>\n",
       "      <th>genres</th>\n",
       "      <th></th>\n",
       "      <th></th>\n",
       "    </tr>\n",
       "  </thead>\n",
       "  <tbody>\n",
       "    <tr>\n",
       "      <th>Documentary</th>\n",
       "      <td>1.305845e+08</td>\n",
       "      <td>900</td>\n",
       "    </tr>\n",
       "    <tr>\n",
       "      <th>Science Fiction</th>\n",
       "      <td>5.682104e+07</td>\n",
       "      <td>877</td>\n",
       "    </tr>\n",
       "    <tr>\n",
       "      <th>Action|Drama|War</th>\n",
       "      <td>1.363850e+08</td>\n",
       "      <td>705</td>\n",
       "    </tr>\n",
       "    <tr>\n",
       "      <th>Drama|History|Western</th>\n",
       "      <td>3.381332e+07</td>\n",
       "      <td>561</td>\n",
       "    </tr>\n",
       "    <tr>\n",
       "      <th>War|Drama|Action|Adventure|History</th>\n",
       "      <td>-6.863564e+07</td>\n",
       "      <td>540</td>\n",
       "    </tr>\n",
       "    <tr>\n",
       "      <th>History|Drama</th>\n",
       "      <td>9.883662e+07</td>\n",
       "      <td>501</td>\n",
       "    </tr>\n",
       "    <tr>\n",
       "      <th>Drama|War|History</th>\n",
       "      <td>3.381332e+07</td>\n",
       "      <td>470</td>\n",
       "    </tr>\n",
       "    <tr>\n",
       "      <th>Drama|History|Romance</th>\n",
       "      <td>1.896460e+08</td>\n",
       "      <td>421</td>\n",
       "    </tr>\n",
       "    <tr>\n",
       "      <th>Adventure|Comedy|Family|Fantasy|Mystery</th>\n",
       "      <td>3.381332e+07</td>\n",
       "      <td>417</td>\n",
       "    </tr>\n",
       "    <tr>\n",
       "      <th>Drama|Western|Adventure</th>\n",
       "      <td>6.715473e+07</td>\n",
       "      <td>372</td>\n",
       "    </tr>\n",
       "  </tbody>\n",
       "</table>\n",
       "</div>"
      ],
      "text/plain": [
       "                                               profit  runtime\n",
       "genres                                                        \n",
       "Documentary                              1.305845e+08      900\n",
       "Science Fiction                          5.682104e+07      877\n",
       "Action|Drama|War                         1.363850e+08      705\n",
       "Drama|History|Western                    3.381332e+07      561\n",
       "War|Drama|Action|Adventure|History      -6.863564e+07      540\n",
       "History|Drama                            9.883662e+07      501\n",
       "Drama|War|History                        3.381332e+07      470\n",
       "Drama|History|Romance                    1.896460e+08      421\n",
       "Adventure|Comedy|Family|Fantasy|Mystery  3.381332e+07      417\n",
       "Drama|Western|Adventure                  6.715473e+07      372"
      ]
     },
     "execution_count": 48,
     "metadata": {},
     "output_type": "execute_result"
    }
   ],
   "source": [
    "# which genre had the longest runtime and what is their corresponding profit? \n",
    "df.groupby('genres')['profit','runtime'].agg(max).sort_values(by='runtime',ascending=False).head(10)"
   ]
  },
  {
   "cell_type": "markdown",
   "metadata": {},
   "source": [
    "The code above and the output gives a result of our top 10 longest genres and their profit respectively. "
   ]
  },
  {
   "cell_type": "code",
   "execution_count": 49,
   "metadata": {},
   "outputs": [
    {
     "data": {
      "text/plain": [
       "Index(['Comedy', 'Drama', 'Comedy|Romance', 'Comedy|Drama|Romance',\n",
       "       'Drama|Romance', 'Horror|Thriller', 'Horror', 'Comedy|Drama',\n",
       "       'Adventure|Action|Thriller', 'Documentary'],\n",
       "      dtype='object', name='genres')"
      ]
     },
     "execution_count": 49,
     "metadata": {},
     "output_type": "execute_result"
    }
   ],
   "source": [
    "# create a special variable for top 10 genres\n",
    "genre = df.groupby('genres')['profit','runtime'].agg(sum).sort_values(by='profit',ascending=False).head(10).index\n",
    "genre"
   ]
  },
  {
   "cell_type": "code",
   "execution_count": 50,
   "metadata": {},
   "outputs": [
    {
     "data": {
      "text/plain": [
       "array([  3.09034178e+10,   2.64050001e+10,   1.44358432e+10,\n",
       "         1.06713762e+10,   1.05076640e+10,   1.01457300e+10,\n",
       "         1.00126132e+10,   9.21738594e+09,   9.18974109e+09,\n",
       "         8.69068473e+09])"
      ]
     },
     "execution_count": 50,
     "metadata": {},
     "output_type": "execute_result"
    }
   ],
   "source": [
    "#create a special variable for the top 10 highest profit of the genres\n",
    "genre_profit = np.array(df.groupby('genres')['profit'].agg(sum).sort_values(ascending=False).head(10))\n",
    "genre_profit"
   ]
  },
  {
   "cell_type": "markdown",
   "metadata": {},
   "source": [
    "To get just the values column, i had to covert the output of my groupby summary to an array. This will help me to carry a visualization."
   ]
  },
  {
   "cell_type": "code",
   "execution_count": 51,
   "metadata": {
    "scrolled": true
   },
   "outputs": [
    {
     "data": {
      "text/plain": [
       "Text(0.5,0,'Genres')"
      ]
     },
     "execution_count": 51,
     "metadata": {},
     "output_type": "execute_result"
    },
    {
     "data": {
      "image/png": "[encoded data removed]",
      "text/plain": [
       "<matplotlib.figure.Figure at 0x7fc3846d0a90>"
      ]
     },
     "metadata": {
      "needs_background": "light"
     },
     "output_type": "display_data"
    }
   ],
   "source": [
    "plt.bar(genre,genre_profit)\n",
    "plt.xticks(rotation=90)\n",
    "plt.title('Total Profit vs Genre')\n",
    "plt.ylabel(\"profits in dollars\")\n",
    "plt.xlabel('Genres')"
   ]
  },
  {
   "cell_type": "markdown",
   "metadata": {},
   "source": [
    "The plot above shows the total profit made by our top 10 genres. It can be seen that comedy and drama are our highest. There seems to be a large variation in profits by these two genres compared to the remaining 8 in our top 10. So what we can make out of this plot, it seems more people are interested in  the comedy and drama genre, hence the high total profit. "
   ]
  },
  {
   "cell_type": "markdown",
   "metadata": {},
   "source": [
    "# Research Question 3 (release_year)"
   ]
  },
  {
   "cell_type": "markdown",
   "metadata": {},
   "source": [
    "We can ask questions about the release_date and see if we can uncover an underlying pattern."
   ]
  },
  {
   "cell_type": "code",
   "execution_count": 52,
   "metadata": {},
   "outputs": [
    {
     "data": {
      "text/plain": [
       "2014    700\n",
       "2013    659\n",
       "2015    629\n",
       "2012    588\n",
       "2011    540\n",
       "2009    533\n",
       "2008    496\n",
       "2010    490\n",
       "2007    438\n",
       "2006    408\n",
       "Name: release_year, dtype: int64"
      ]
     },
     "execution_count": 52,
     "metadata": {},
     "output_type": "execute_result"
    }
   ],
   "source": [
    "# how many movies were released each year?\n",
    "df['release_year'].value_counts().head(10)"
   ]
  },
  {
   "cell_type": "markdown",
   "metadata": {},
   "source": [
    "The result above shows us the number of movies released each year for the top 10 highest from our dataset."
   ]
  },
  {
   "cell_type": "markdown",
   "metadata": {},
   "source": [
    "We have a table that gives us the numbers of movies produced each year. We see clearly that we have the highest in the most recent year. Now we can go further to split this table into to independent columns so we can do a visualization of it."
   ]
  },
  {
   "cell_type": "code",
   "execution_count": 53,
   "metadata": {},
   "outputs": [
    {
     "data": {
      "text/plain": [
       "Int64Index([2014, 2013, 2015, 2012, 2011, 2009, 2008, 2010, 2007, 2006, 2005,\n",
       "            2004, 2003, 2002, 2001, 2000, 1999, 1998, 1996, 1997, 1994, 1993,\n",
       "            1995, 1988, 1989, 1992, 1991, 1990, 1987, 1986, 1985, 1984, 1981,\n",
       "            1982, 1983, 1980, 1978, 1979, 1977, 1971, 1973, 1974, 1976, 1966,\n",
       "            1975, 1964, 1970, 1967, 1972, 1968, 1965, 1963, 1962, 1960, 1969,\n",
       "            1961],\n",
       "           dtype='int64')"
      ]
     },
     "execution_count": 53,
     "metadata": {},
     "output_type": "execute_result"
    }
   ],
   "source": [
    "# create a variable to extract the years.\n",
    "years =df['release_year'].value_counts().index\n",
    "years"
   ]
  },
  {
   "cell_type": "markdown",
   "metadata": {},
   "source": [
    "This is a record of all the years for the various movies that were produced."
   ]
  },
  {
   "cell_type": "markdown",
   "metadata": {},
   "source": [
    "This output here is a successful splitting and isolating the year from the count. we have stored it in the variable called years."
   ]
  },
  {
   "cell_type": "code",
   "execution_count": 54,
   "metadata": {},
   "outputs": [
    {
     "data": {
      "text/plain": [
       "array([700, 659, 629, 588, 540, 533, 496, 490, 438, 408, 364, 307, 281,\n",
       "       266, 242, 227, 224, 210, 204, 192, 184, 178, 175, 145, 137, 133,\n",
       "       133, 132, 125, 121, 109, 105,  82,  81,  80,  78,  65,  57,  57,\n",
       "        55,  55,  47,  47,  46,  44,  42,  41,  40,  40,  39,  35,  34,\n",
       "        32,  32,  31,  31])"
      ]
     },
     "execution_count": 54,
     "metadata": {},
     "output_type": "execute_result"
    }
   ],
   "source": [
    "# create a variable for the count.\n",
    "counts=np.array(df['release_year'].value_counts())\n",
    "counts"
   ]
  },
  {
   "cell_type": "markdown",
   "metadata": {},
   "source": [
    "We had to convert it to a numpy array so we could isolate the count values for each year. At this point, we're ready to plot our point and clearly visualize the insights earlier observed from then frequency table."
   ]
  },
  {
   "cell_type": "code",
   "execution_count": 55,
   "metadata": {},
   "outputs": [
    {
     "data": {
      "image/png": "[encoded data removed]",
      "text/plain": [
       "<matplotlib.figure.Figure at 0x7fc3846a5630>"
      ]
     },
     "metadata": {
      "needs_background": "light"
     },
     "output_type": "display_data"
    }
   ],
   "source": [
    "plt.scatter(data=df,x=years,y=counts,)\n",
    "plt.xlabel(\"years\")\n",
    "plt.ylabel('Number of movies produced')\n",
    "plt.title(\"Number of each movies produced vs the year\")\n",
    "plt.legend()"
   ]
  },
  {
   "cell_type": "markdown",
   "metadata": {},
   "source": [
    "A scatter plot to show the relationship between the number of movies produced vs the year of production. It is clearly seen that from the earliest year of production to the most recent year, that it increased non-linearly. I can say that there's an exponential increase as visibly captured here and it has its highest at the most recent date in our dataset."
   ]
  },
  {
   "cell_type": "code",
   "execution_count": 56,
   "metadata": {},
   "outputs": [
    {
     "data": {
      "image/png": "[encoded data removed]",
      "text/plain": [
       "<matplotlib.figure.Figure at 0x7fc3846f7a90>"
      ]
     },
     "metadata": {
      "needs_background": "light"
     },
     "output_type": "display_data"
    }
   ],
   "source": [
    "# we can visualize what this output looks like \n",
    "plt.plot(years, counts)\n",
    "plt.xlabel(\"years\")\n",
    "plt.ylabel('Number of movies produced')\n",
    "plt.title(\"Number of each movies produced vs the year\")\n",
    "plt.grid()"
   ]
  },
  {
   "cell_type": "markdown",
   "metadata": {},
   "source": [
    "We see a trend here. The number of movies released increases each year and has it's peak at the most recent year which is 2014. This could mean that the movie industry is lucrative and more people are interested in entertainment, which is one possible reason which there's a steady rise in number of movies released each year. "
   ]
  },
  {
   "cell_type": "markdown",
   "metadata": {},
   "source": [
    "<a id='conclusions'></a>\n",
    "## Conclusions\n",
    "#### The analysis began with an intoduction and clear statement of the questions intended to be answered by the data. The necessary libraries were imported and the data loaded to our notebook. Then we moved into the inspection to get familiar with our data.  At the Data wrangling stage, we did some adjustment to our data. Also we proceeded to cleaning the data, dealing with null values, dropping of irrelevant columns that we would not need for the analysis. Then we proceeded to the Exploratory stage where we asked our data questions and carried out both univariate and bivariate analysis. We also provided visuals to help pass the point more clearly.\n",
    "\n",
    "#### Below are the summary of the Insights and limitations with our data.\n",
    "\n",
    "> **INSIGHTs**:\n",
    " > 1. Paramount Pictures produced most number of movies.\n",
    " > 2. Lucasfilm|Twentieth Century Fox Film Corporation made the highest profit.\n",
    " > 3. SMV Enterprises|Columbia Music Video|EMI had the highest vote_average.\n",
    " > 4. Steven Spielberg had the highest profit of  1.315341e+10 dollars\tamong the directors\n",
    " > 5. Paramount Pictures  made the most profit of 1.252213e+10 dollars\n",
    " > 6. For the genre, Comedy\thad the highest total profit of 3.090342e+10 dollars\n",
    " > 7. Adventure|Action|Science Fiction had the highest profit of 2.750137e+09 dollars for the genres class.\n",
    " > 8. Documentary genre had the highest runtime of 900 minutes.\n",
    " > 9. From the release_year field, there was an increase in the number of movies produced each year and had it peak in the most \n",
    "      in the most recent year 2014 as captured in the data.\n",
    " > 10. The trend line shows that the number of movies produced each year increased, not linearly but exponentially, having its        least at the earliest year of production. \n",
    "\n",
    "\n",
    "\n",
    "> **Limitations**:\n",
    "    > 1. Too many missing values. \n",
    "    "
   ]
  },
  {
   "cell_type": "code",
   "execution_count": 57,
   "metadata": {},
   "outputs": [
    {
     "data": {
      "text/plain": [
       "255"
      ]
     },
     "execution_count": 57,
     "metadata": {},
     "output_type": "execute_result"
    }
   ],
   "source": [
    "from subprocess import call\n",
    "call(['python', '-m', 'nbconvert', 'Investigate_a_Dataset.ipynb'])"
   ]
  }
 ],
 "metadata": {
  "kernelspec": {
   "display_name": "Python 3",
   "language": "python",
   "name": "python3"
  },
  "language_info": {
   "codemirror_mode": {
    "name": "ipython",
    "version": 3
   },
   "file_extension": ".py",
   "mimetype": "text/x-python",
   "name": "python",
   "nbconvert_exporter": "python",
   "pygments_lexer": "ipython3",
   "version": "3.6.3"
  }
 },
 "nbformat": 4,
 "nbformat_minor": 2
}
